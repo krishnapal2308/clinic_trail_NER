{
  "cells": [
    {
      "cell_type": "markdown",
      "metadata": {
        "id": "WWkhmvWo29jf"
      },
      "source": [
        "# Clinical Trial Named Entity Recognition (NER)"
      ]
    },
    {
      "cell_type": "markdown",
      "metadata": {
        "id": "1rV5GV3G3Dv4"
      },
      "source": [
        "## Imports and Initial Setup"
      ]
    },
    {
      "cell_type": "code",
      "execution_count": 1,
      "metadata": {
        "colab": {
          "base_uri": "https://localhost:8080/"
        },
        "id": "bZ4iDsnsqIU5",
        "outputId": "d729ac5a-2f0b-448d-cb25-2acc5ef238f7"
      },
      "outputs": [
        {
          "name": "stdout",
          "output_type": "stream",
          "text": [
            "Collecting seqeval\n",
            "  Downloading seqeval-1.2.2.tar.gz (43 kB)\n",
            "\u001b[?25l     \u001b[90m━━━━━━━━━━━━━━━━━━━━━━━━━━━━━━━━━━━━━━━━\u001b[0m \u001b[32m0.0/43.6 kB\u001b[0m \u001b[31m?\u001b[0m eta \u001b[36m-:--:--\u001b[0m\r\u001b[2K     \u001b[90m━━━━━━━━━━━━━━━━━━━━━━━━━━━━━━━━━━━━━━━━\u001b[0m \u001b[32m43.6/43.6 kB\u001b[0m \u001b[31m2.1 MB/s\u001b[0m eta \u001b[36m0:00:00\u001b[0m\n",
            "\u001b[?25h  Preparing metadata (setup.py) ... \u001b[?25l\u001b[?25hdone\n",
            "Requirement already satisfied: numpy>=1.14.0 in /usr/local/lib/python3.10/dist-packages (from seqeval) (1.26.4)\n",
            "Requirement already satisfied: scikit-learn>=0.21.3 in /usr/local/lib/python3.10/dist-packages (from seqeval) (1.3.2)\n",
            "Requirement already satisfied: scipy>=1.5.0 in /usr/local/lib/python3.10/dist-packages (from scikit-learn>=0.21.3->seqeval) (1.13.1)\n",
            "Requirement already satisfied: joblib>=1.1.1 in /usr/local/lib/python3.10/dist-packages (from scikit-learn>=0.21.3->seqeval) (1.4.2)\n",
            "Requirement already satisfied: threadpoolctl>=2.0.0 in /usr/local/lib/python3.10/dist-packages (from scikit-learn>=0.21.3->seqeval) (3.5.0)\n",
            "Building wheels for collected packages: seqeval\n",
            "  Building wheel for seqeval (setup.py) ... \u001b[?25l\u001b[?25hdone\n",
            "  Created wheel for seqeval: filename=seqeval-1.2.2-py3-none-any.whl size=16161 sha256=4ea0edac4d17d2386884f714cfe8f5d40d51b905da0665f8b449050eec7599d6\n",
            "  Stored in directory: /root/.cache/pip/wheels/1a/67/4a/ad4082dd7dfc30f2abfe4d80a2ed5926a506eb8a972b4767fa\n",
            "Successfully built seqeval\n",
            "Installing collected packages: seqeval\n",
            "Successfully installed seqeval-1.2.2\n"
          ]
        }
      ],
      "source": [
        "%pip install seqeval"
      ]
    },
    {
      "cell_type": "code",
      "execution_count": 2,
      "metadata": {
        "colab": {
          "base_uri": "https://localhost:8080/"
        },
        "id": "L0QsAbQQF495",
        "outputId": "490834e2-3904-489d-d516-bc99faea7ab1"
      },
      "outputs": [
        {
          "name": "stdout",
          "output_type": "stream",
          "text": [
            "Mounted at /content/drive\n"
          ]
        }
      ],
      "source": [
        "from google.colab import drive\n",
        "drive.mount('/content/drive')"
      ]
    },
    {
      "cell_type": "code",
      "execution_count": 3,
      "metadata": {
        "id": "E5tgsPE7pxxK"
      },
      "outputs": [],
      "source": [
        "import random\n",
        "import numpy as np\n",
        "import pandas as pd\n",
        "from ast import literal_eval\n",
        "import matplotlib.pyplot as plt\n",
        "\n",
        "import warnings\n",
        "warnings.filterwarnings(\"ignore\")\n",
        "\n",
        "from huggingface_hub import HfApi, HfFolder\n",
        "from google.colab import userdata\n",
        "\n",
        "import tensorflow as tf\n",
        "from sklearn.model_selection import train_test_split\n",
        "from transformers import TFBertForTokenClassification, BertTokenizerFast\n",
        "\n",
        "from seqeval.metrics import classification_report"
      ]
    },
    {
      "cell_type": "markdown",
      "metadata": {
        "id": "aha-XwaZ3N2S"
      },
      "source": [
        "## Data Import, EDA and Preprocessing"
      ]
    },
    {
      "cell_type": "markdown",
      "metadata": {
        "id": "Lw04AL3-cpcr"
      },
      "source": [
        "- Processed 'tags' column to extract labeled entities and text"
      ]
    },
    {
      "cell_type": "code",
      "execution_count": 4,
      "metadata": {
        "id": "KNw0ph4tsGcv"
      },
      "outputs": [],
      "source": [
        "def extract_entities(row):\n",
        "    entities = []\n",
        "    tags = row['tags']\n",
        "    text = row['text']\n",
        "\n",
        "    if pd.isna(tags) or pd.isna(text):\n",
        "        return entities\n",
        "\n",
        "    tag_list = tags.split(',')\n",
        "\n",
        "    for tag in tag_list:\n",
        "        if tag.strip():\n",
        "            start, end, label = tag.split(':')\n",
        "            start_idx, end_idx = int(start)-1, int(end)-1 # adjusting index for exact match\n",
        "            entity = {\n",
        "                'start_idx': start_idx,\n",
        "                'end_idx': end_idx,\n",
        "                'label': label,\n",
        "                'extracted_text': text[start_idx:end_idx]\n",
        "            }\n",
        "            entities.append(entity)\n",
        "\n",
        "    return entities\n",
        "\n",
        "def load_and_clean_data(dataset):\n",
        "\n",
        "    if isinstance(dataset, str):\n",
        "      df = pd.read_excel(dataset)\n",
        "    elif isinstance(dataset, pd.DataFrame):\n",
        "      df = dataset.copy()\n",
        "\n",
        "    df['entities'] = df.apply(extract_entities, axis=1)\n",
        "    df.dropna(subset=['text'],inplace=True)\n",
        "    df.drop('Unnamed: 0',axis=1, inplace=True)\n",
        "\n",
        "    return df"
      ]
    },
    {
      "cell_type": "code",
      "execution_count": 5,
      "metadata": {
        "id": "lUD-KY4WsLS7"
      },
      "outputs": [],
      "source": [
        "folder_path = \"/content/drive/MyDrive/Colab Notebooks/Clinic_Trail_NER/\"\n",
        "\n",
        "G1_df = load_and_clean_data(folder_path+\"G1.xlsx\")\n",
        "G2_df = load_and_clean_data(folder_path+\"G2.xlsx\")\n",
        "G3_df = load_and_clean_data(folder_path+\"G3.xlsx\")"
      ]
    },
    {
      "cell_type": "code",
      "execution_count": 6,
      "metadata": {
        "colab": {
          "base_uri": "https://localhost:8080/"
        },
        "id": "EnSbWaCvs6Zn",
        "outputId": "69d0e767-936f-4e4f-cb38-1598632320f5"
      },
      "outputs": [
        {
          "name": "stdout",
          "output_type": "stream",
          "text": [
            "<class 'pandas.core.frame.DataFrame'>\n",
            "RangeIndex: 7356 entries, 0 to 7355\n",
            "Data columns (total 4 columns):\n",
            " #   Column    Non-Null Count  Dtype \n",
            "---  ------    --------------  ----- \n",
            " 0   ID        7356 non-null   object\n",
            " 1   tags      7356 non-null   object\n",
            " 2   text      7356 non-null   object\n",
            " 3   entities  7356 non-null   object\n",
            "dtypes: object(4)\n",
            "memory usage: 230.0+ KB\n",
            "<class 'pandas.core.frame.DataFrame'>\n",
            "Index: 6454 entries, 0 to 6454\n",
            "Data columns (total 4 columns):\n",
            " #   Column    Non-Null Count  Dtype \n",
            "---  ------    --------------  ----- \n",
            " 0   ID        6454 non-null   object\n",
            " 1   tags      6454 non-null   object\n",
            " 2   text      6454 non-null   object\n",
            " 3   entities  6454 non-null   object\n",
            "dtypes: object(4)\n",
            "memory usage: 252.1+ KB\n",
            "<class 'pandas.core.frame.DataFrame'>\n",
            "RangeIndex: 6277 entries, 0 to 6276\n",
            "Data columns (total 4 columns):\n",
            " #   Column    Non-Null Count  Dtype \n",
            "---  ------    --------------  ----- \n",
            " 0   ID        6277 non-null   object\n",
            " 1   tags      6277 non-null   object\n",
            " 2   text      6277 non-null   object\n",
            " 3   entities  6277 non-null   object\n",
            "dtypes: object(4)\n",
            "memory usage: 196.3+ KB\n",
            "None None None\n"
          ]
        }
      ],
      "source": [
        "print(G1_df.info(), G2_df.info(), G3_df.info())"
      ]
    },
    {
      "cell_type": "markdown",
      "metadata": {
        "id": "tzLz9fYk5YFG"
      },
      "source": [
        "- One NA value found in G2's text column which was dropped in load_and_clean_data()"
      ]
    },
    {
      "cell_type": "code",
      "execution_count": 7,
      "metadata": {
        "colab": {
          "base_uri": "https://localhost:8080/"
        },
        "id": "RvsphaoZsD_t",
        "outputId": "ae98221c-1895-439f-c764-5e81b5266593"
      },
      "outputs": [
        {
          "name": "stdout",
          "output_type": "stream",
          "text": [
            "Label distribution in Task 1:\n",
            "treatment          0.457905\n",
            "chronic_disease    0.386941\n",
            "cancer             0.132829\n",
            "allergy_name       0.022325\n",
            "Name: proportion, dtype: float64\n",
            "\n",
            "Label distribution in Task 2:\n",
            "treatment          0.427779\n",
            "chronic_disease    0.403769\n",
            "cancer             0.142922\n",
            "allergy_name       0.025530\n",
            "Name: proportion, dtype: float64\n",
            "\n",
            "Label distribution in Task 3:\n",
            "treatment          0.451388\n",
            "chronic_disease    0.389276\n",
            "cancer             0.129198\n",
            "allergy_name       0.030138\n",
            "Name: proportion, dtype: float64\n"
          ]
        }
      ],
      "source": [
        "def count_label_distribution(series):\n",
        "    flattened_data = [item for sublist in series for item in sublist]\n",
        "    labels = pd.Series([item['label'] for item in flattened_data])\n",
        "    label_counts = labels.value_counts(normalize=True)\n",
        "    print(label_counts)\n",
        "\n",
        "print(\"Label distribution in Task 1:\")\n",
        "count_label_distribution(G1_df['entities'])\n",
        "print(\"\\nLabel distribution in Task 2:\")\n",
        "count_label_distribution(G2_df['entities'])\n",
        "print(\"\\nLabel distribution in Task 3:\")\n",
        "count_label_distribution(G3_df['entities'])"
      ]
    },
    {
      "cell_type": "markdown",
      "metadata": {
        "id": "MS70OgPOcpct"
      },
      "source": [
        "- Label distribution is highly imbalanced, with very few datapoints for allergy category"
      ]
    },
    {
      "cell_type": "code",
      "execution_count": null,
      "metadata": {
        "id": "owqHh2Y0s5BA"
      },
      "outputs": [],
      "source": [
        "def analyze_sequence_lengths(df):\n",
        "\n",
        "    sequence_lengths = []\n",
        "    for text in df['text']:\n",
        "        tokens = tokenizer.tokenize(text)\n",
        "        sequence_lengths.append(len(tokens))\n",
        "\n",
        "    plt.boxplot(sequence_lengths)\n",
        "    plt.xlabel(\"Sequence Length\")\n",
        "    plt.ylabel(\"Count\")\n",
        "    plt.show()\n",
        "\n",
        "    print(\"Average sequence length:\", sum(sequence_lengths) / len(sequence_lengths))\n",
        "    print(\"Maximum sequence length:\", max(sequence_lengths))"
      ]
    },
    {
      "cell_type": "code",
      "execution_count": 15,
      "metadata": {
        "colab": {
          "base_uri": "https://localhost:8080/",
          "height": 145,
          "referenced_widgets": [
            "63682c451faf4636b894d51fc78d333a",
            "13da6c2232864421ac5e95d8d2a193bd",
            "1dd0ee11cb8e416c915188a1e37fe478",
            "ac82301dfd95491fa4040c2f02a10c33",
            "f58a1ae0281540feb0270e2ffc035430",
            "b5668dfa3d2342c790d7410fed1d8918",
            "6c304084d94146ca85a6f8265e0edfba",
            "9626b105c1dc4d50a31e3e6c986184aa",
            "55553a1eda2b4683a5b621d7fb5de01f",
            "cb579f42b1484d629e76ac625bd8b973",
            "ebca00df79bc42ec8b71cbc48c88279e",
            "3aab92e580114b00b0b76e5673c33c3b",
            "53182050d9844c4b960df6d5c37a983c",
            "f7d2ff4ab5d14d7e9967071e29e0d67d",
            "bb973471f97f43769a17d7c7e31c0c35",
            "665e85720e354c299e197fb75a8d647c",
            "72f973456fab4e98953a0e7391fd53be",
            "3307f9265b544c68868d57c296a96050",
            "dea0f998b67245fcbcaddb7da0a574fb",
            "ddd2d51041704e4496c9757356675de1",
            "fa6a8eac53594f5a9a8cb228367c036b",
            "b2eeca3cfb324ff888b25b7b22f027d8",
            "9dc2c69ab8c84ff58a5772b78e43c728",
            "70e7982468bb41f493fca4b87a0594e1",
            "10e42e961e7742d5b4059b1a54ac0b41",
            "cc850b2f7be14267935247f5924c4b7c",
            "c796402f256b45baada7fea4dafe8b97",
            "98c19d0b3475481da9727fd72049c20b",
            "4d490d012726417ea8f8752a8e1701f6",
            "c5a630502fcb425f8a22049256585484",
            "ac95eab0785f46e7bff2fe0a357d4aba",
            "cc361e12b7cd45c0aaeacefba7a8abb2",
            "7566e0373f1b488a9bd000fe5d6dee1a",
            "5cb27e4f6bb046e086c571b2fe1f5607",
            "47294337f4b249c4aa14bee3ffc70e68",
            "1bde5c8a227b4298bef6cf67fe22915c",
            "fcfaae4e861a499a9d71fbdfbe893a3c",
            "d4cb200a6a8340c7bee9583caa670938",
            "c428f1c74220415aa2828c684897c029",
            "489f079d7a2240af8da0f834c4ece6a7",
            "a63514c93c324c4fb4c2546a3d082b86",
            "cffc0b133c6e412e8b7f709a7d641406",
            "5c0bc820d9684642bc53caa6b79380b7",
            "afe33f5196ea4e938d2d843cf5e0a966"
          ]
        },
        "id": "Z-pdLTJetB1L",
        "outputId": "36cba438-4b80-4da0-83f2-1704a51aad1d"
      },
      "outputs": [
        {
          "data": {
            "application/vnd.jupyter.widget-view+json": {
              "model_id": "63682c451faf4636b894d51fc78d333a",
              "version_major": 2,
              "version_minor": 0
            },
            "text/plain": [
              "tokenizer_config.json:   0%|          | 0.00/49.0 [00:00<?, ?B/s]"
            ]
          },
          "metadata": {},
          "output_type": "display_data"
        },
        {
          "data": {
            "application/vnd.jupyter.widget-view+json": {
              "model_id": "3aab92e580114b00b0b76e5673c33c3b",
              "version_major": 2,
              "version_minor": 0
            },
            "text/plain": [
              "vocab.txt:   0%|          | 0.00/213k [00:00<?, ?B/s]"
            ]
          },
          "metadata": {},
          "output_type": "display_data"
        },
        {
          "data": {
            "application/vnd.jupyter.widget-view+json": {
              "model_id": "9dc2c69ab8c84ff58a5772b78e43c728",
              "version_major": 2,
              "version_minor": 0
            },
            "text/plain": [
              "tokenizer.json:   0%|          | 0.00/436k [00:00<?, ?B/s]"
            ]
          },
          "metadata": {},
          "output_type": "display_data"
        },
        {
          "data": {
            "application/vnd.jupyter.widget-view+json": {
              "model_id": "5cb27e4f6bb046e086c571b2fe1f5607",
              "version_major": 2,
              "version_minor": 0
            },
            "text/plain": [
              "config.json:   0%|          | 0.00/570 [00:00<?, ?B/s]"
            ]
          },
          "metadata": {},
          "output_type": "display_data"
        }
      ],
      "source": [
        "tokenizer = BertTokenizerFast.from_pretrained('bert-base-cased')"
      ]
    },
    {
      "cell_type": "code",
      "execution_count": null,
      "metadata": {
        "colab": {
          "base_uri": "https://localhost:8080/",
          "height": 1000
        },
        "id": "AAExzf24tFzP",
        "outputId": "a3609a5e-60b1-4839-a10e-6d2c508f0ec4"
      },
      "outputs": [
        {
          "data": {
            "image/png": "[encoded data removed]",
            "text/plain": [
              "<Figure size 640x480 with 1 Axes>"
            ]
          },
          "metadata": {},
          "output_type": "display_data"
        },
        {
          "name": "stdout",
          "output_type": "stream",
          "text": [
            "Average sequence length: 23.48341489940185\n",
            "Maximum sequence length: 300\n"
          ]
        },
        {
          "data": {
            "image/png": "[encoded data removed]",
            "text/plain": [
              "<Figure size 640x480 with 1 Axes>"
            ]
          },
          "metadata": {},
          "output_type": "display_data"
        },
        {
          "name": "stdout",
          "output_type": "stream",
          "text": [
            "Average sequence length: 23.487449643631855\n",
            "Maximum sequence length: 281\n"
          ]
        },
        {
          "data": {
            "image/png": "[encoded data removed]",
            "text/plain": [
              "<Figure size 640x480 with 1 Axes>"
            ]
          },
          "metadata": {},
          "output_type": "display_data"
        },
        {
          "name": "stdout",
          "output_type": "stream",
          "text": [
            "Average sequence length: 24.375338537517923\n",
            "Maximum sequence length: 333\n",
            "None None None\n"
          ]
        }
      ],
      "source": [
        "print(analyze_sequence_lengths(G1_df), analyze_sequence_lengths(G2_df), analyze_sequence_lengths(G3_df))"
      ]
    },
    {
      "cell_type": "markdown",
      "metadata": {
        "id": "qzmiKZPB38tJ"
      },
      "source": [
        "- Very few datapoints where the text's token length is greater than 256."
      ]
    },
    {
      "cell_type": "code",
      "execution_count": null,
      "metadata": {
        "id": "7ZAx2g2RzoTT"
      },
      "outputs": [],
      "source": [
        "def drop_long_sequences(df, tokenizer, max_tokens=256):\n",
        "    def is_within_limit(text, max_tokens):\n",
        "        tokens = tokenizer.tokenize(text)\n",
        "        return len(tokens) <= max_tokens\n",
        "\n",
        "    filtered_df = df[df['text'].apply(lambda x: is_within_limit(x, max_tokens))]\n",
        "\n",
        "    print(f\"Dropped {len(df) - len(filtered_df)} rows with more than {max_tokens} tokens.\")\n",
        "    return filtered_df"
      ]
    },
    {
      "cell_type": "code",
      "execution_count": null,
      "metadata": {
        "colab": {
          "base_uri": "https://localhost:8080/"
        },
        "id": "kGbAweZ3zphy",
        "outputId": "1328e274-5da2-48e6-f24b-997543db2df7"
      },
      "outputs": [
        {
          "name": "stdout",
          "output_type": "stream",
          "text": [
            "Dropped 2 rows with more than 256 tokens.\n",
            "Dropped 2 rows with more than 256 tokens.\n",
            "Dropped 2 rows with more than 256 tokens.\n"
          ]
        }
      ],
      "source": [
        "G1_df = drop_long_sequences(G1_df, tokenizer, max_tokens=256)\n",
        "G2_df = drop_long_sequences(G2_df, tokenizer, max_tokens=256)\n",
        "G3_df = drop_long_sequences(G3_df, tokenizer, max_tokens=256)"
      ]
    },
    {
      "cell_type": "code",
      "execution_count": null,
      "metadata": {
        "colab": {
          "base_uri": "https://localhost:8080/"
        },
        "id": "RqRZreig0DhJ",
        "outputId": "00bcc18c-5953-4d00-ff9d-ef9c9980ea07"
      },
      "outputs": [
        {
          "name": "stdout",
          "output_type": "stream",
          "text": [
            "Label distribution in Task 1:\n",
            "treatment          0.457703\n",
            "chronic_disease    0.387045\n",
            "cancer             0.132913\n",
            "allergy_name       0.022339\n",
            "Name: proportion, dtype: float64\n",
            "\n",
            "Label distribution in Task 2:\n",
            "treatment          0.427526\n",
            "chronic_disease    0.403521\n",
            "cancer             0.143347\n",
            "allergy_name       0.025606\n",
            "Name: proportion, dtype: float64\n",
            "\n",
            "Label distribution in Task 3:\n",
            "treatment          0.451168\n",
            "chronic_disease    0.389736\n",
            "cancer             0.128916\n",
            "allergy_name       0.030180\n",
            "Name: proportion, dtype: float64\n"
          ]
        }
      ],
      "source": [
        "print(\"Label distribution in Task 1:\")\n",
        "count_label_distribution(G1_df['entities'])\n",
        "print(\"\\nLabel distribution in Task 2:\")\n",
        "count_label_distribution(G2_df['entities'])\n",
        "print(\"\\nLabel distribution in Task 3:\")\n",
        "count_label_distribution(G3_df['entities'])"
      ]
    },
    {
      "cell_type": "code",
      "execution_count": null,
      "metadata": {
        "colab": {
          "base_uri": "https://localhost:8080/",
          "height": 1000
        },
        "id": "eNZVrxnp0YRn",
        "outputId": "df2e8df0-de47-4f39-e20f-6b089122a6f9"
      },
      "outputs": [
        {
          "data": {
            "image/png": "[encoded data removed]",
            "text/plain": [
              "<Figure size 640x480 with 1 Axes>"
            ]
          },
          "metadata": {},
          "output_type": "display_data"
        },
        {
          "name": "stdout",
          "output_type": "stream",
          "text": [
            "Average sequence length: 23.410252923579005\n",
            "Maximum sequence length: 239\n"
          ]
        },
        {
          "data": {
            "image/png": "[encoded data removed]",
            "text/plain": [
              "<Figure size 640x480 with 1 Axes>"
            ]
          },
          "metadata": {},
          "output_type": "display_data"
        },
        {
          "name": "stdout",
          "output_type": "stream",
          "text": [
            "Average sequence length: 23.410415375077495\n",
            "Maximum sequence length: 234\n"
          ]
        },
        {
          "data": {
            "image/png": "[encoded data removed]",
            "text/plain": [
              "<Figure size 640x480 with 1 Axes>"
            ]
          },
          "metadata": {},
          "output_type": "display_data"
        },
        {
          "name": "stdout",
          "output_type": "stream",
          "text": [
            "Average sequence length: 24.28844621513944\n",
            "Maximum sequence length: 241\n",
            "None None None\n"
          ]
        }
      ],
      "source": [
        "print(analyze_sequence_lengths(G1_df), analyze_sequence_lengths(G2_df), analyze_sequence_lengths(G3_df))"
      ]
    },
    {
      "cell_type": "markdown",
      "metadata": {
        "id": "WVEQoGj54OxZ"
      },
      "source": [
        "- Only 2 rows had text exceeding 256 tokens; these were dropped\n",
        "- Max input length set to 256 tokens to accommodate all remaining datapoints"
      ]
    },
    {
      "cell_type": "markdown",
      "metadata": {
        "id": "ts8ZkQ6d5Q7H"
      },
      "source": [
        "## Data Preparation and Encoding"
      ]
    },
    {
      "cell_type": "markdown",
      "metadata": {
        "id": "0ASlRJWucpcu"
      },
      "source": [
        "- Data split into 80-20 train-test, with further 80-20 split of training data for validation\n",
        "- Implemented BIO (Beginning, Inside, Outside) tagging scheme for BERT-based NER"
      ]
    },
    {
      "cell_type": "code",
      "execution_count": 14,
      "metadata": {
        "id": "OnWs577H5J8a"
      },
      "outputs": [],
      "source": [
        "def train_val_test_split(df):\n",
        "    train_df, test_df = train_test_split(df, test_size=0.2, random_state=42)\n",
        "\n",
        "    # train_test split\n",
        "    temp_train_df = train_df.reset_index(drop=True)\n",
        "    test_df = test_df.reset_index(drop=True)\n",
        "\n",
        "    # validation split\n",
        "    train_df, val_df = train_test_split(temp_train_df, test_size=0.2, random_state=42)\n",
        "    train_df = train_df.reset_index(drop=True)\n",
        "    val_df = val_df.reset_index(drop=True)\n",
        "\n",
        "    print(f\"Training set size: {train_df.shape}\")\n",
        "    print(f\"Val size: {val_df.shape}\")\n",
        "    print(f\"Test set size: {test_df.shape}\")\n",
        "    return train_df, val_df, test_df\n",
        "\n",
        "def encode_examples(df, tokenizer, label_map):\n",
        "    all_input_ids = []\n",
        "    all_attention_masks = []\n",
        "    all_labels = []\n",
        "\n",
        "    for _, row in df.iterrows():\n",
        "        text = row['text']\n",
        "        entities = row['entities']\n",
        "\n",
        "        tokenized_input = tokenizer(text, truncation=True, padding='max_length', max_length=256, return_offsets_mapping=True)\n",
        "        input_ids = tokenized_input['input_ids']\n",
        "        attention_mask = tokenized_input['attention_mask']\n",
        "        offset_mapping = tokenized_input['offset_mapping']\n",
        "\n",
        "        labels = ['O'] * len(input_ids)\n",
        "\n",
        "        for entity in entities:\n",
        "            start_idx = entity['start_idx']\n",
        "            end_idx = entity['end_idx']\n",
        "            label = entity['label']\n",
        "\n",
        "            entity_started = False\n",
        "            for idx, (start, end) in enumerate(offset_mapping):\n",
        "                if start_idx <= start < end_idx and end != 0:\n",
        "                    if not entity_started:\n",
        "                        labels[idx] = f\"B-{label}\"\n",
        "                        entity_started = True\n",
        "                    else:\n",
        "                        labels[idx] = f\"I-{label}\"\n",
        "                elif end < start_idx:\n",
        "                    entity_started = False\n",
        "\n",
        "        all_input_ids.append(input_ids)\n",
        "        all_attention_masks.append(attention_mask)\n",
        "        all_labels.append([label_map[label] for label in labels])\n",
        "\n",
        "    return tf.data.Dataset.from_tensor_slices({\n",
        "    'input_ids': tf.constant(all_input_ids),\n",
        "    'attention_mask': tf.constant(all_attention_masks),\n",
        "    'labels': tf.constant(all_labels)\n",
        "    })"
      ]
    },
    {
      "cell_type": "markdown",
      "metadata": {
        "id": "fqS9dSeXcpcv"
      },
      "source": [
        "- Validating the encoding for 1 sample from train set."
      ]
    },
    {
      "cell_type": "code",
      "execution_count": null,
      "metadata": {
        "colab": {
          "base_uri": "https://localhost:8080/"
        },
        "id": "5DsaDSeffB6u",
        "outputId": "97131474-11c4-4ab2-970a-90808e233390"
      },
      "outputs": [
        {
          "name": "stdout",
          "output_type": "stream",
          "text": [
            "Training set size: (4706, 4)\n",
            "Val size: (1177, 4)\n",
            "Test set size: (1471, 4)\n",
            "Participation in a prior gene transfer therapy study\n",
            "[{'start_idx': 19, 'end_idx': 46, 'label': 'treatment', 'extracted_text': 'prior gene transfer therapy'}]\n",
            "Tokens: ['[CLS]', 'Part', '##ici', '##pation', 'in', 'a', 'prior', 'gene', 'transfer', 'therapy', 'study', '[SEP]', '[PAD]', '[PAD]', '[PAD]', '[PAD]', '[PAD]', '[PAD]', '[PAD]', '[PAD]', '[PAD]', '[PAD]', '[PAD]', '[PAD]', '[PAD]', '[PAD]', '[PAD]', '[PAD]', '[PAD]', '[PAD]', '[PAD]', '[PAD]', '[PAD]', '[PAD]', '[PAD]', '[PAD]', '[PAD]', '[PAD]', '[PAD]', '[PAD]', '[PAD]', '[PAD]', '[PAD]', '[PAD]', '[PAD]', '[PAD]', '[PAD]', '[PAD]', '[PAD]', '[PAD]', '[PAD]', '[PAD]', '[PAD]', '[PAD]', '[PAD]', '[PAD]', '[PAD]', '[PAD]', '[PAD]', '[PAD]', '[PAD]', '[PAD]', '[PAD]', '[PAD]', '[PAD]', '[PAD]', '[PAD]', '[PAD]', '[PAD]', '[PAD]', '[PAD]', '[PAD]', '[PAD]', '[PAD]', '[PAD]', '[PAD]', '[PAD]', '[PAD]', '[PAD]', '[PAD]', '[PAD]', '[PAD]', '[PAD]', '[PAD]', '[PAD]', '[PAD]', '[PAD]', '[PAD]', '[PAD]', '[PAD]', '[PAD]', '[PAD]', '[PAD]', '[PAD]', '[PAD]', '[PAD]', '[PAD]', '[PAD]', '[PAD]', '[PAD]', '[PAD]', '[PAD]', '[PAD]', '[PAD]', '[PAD]', '[PAD]', '[PAD]', '[PAD]', '[PAD]', '[PAD]', '[PAD]', '[PAD]', '[PAD]', '[PAD]', '[PAD]', '[PAD]', '[PAD]', '[PAD]', '[PAD]', '[PAD]', '[PAD]', '[PAD]', '[PAD]', '[PAD]', '[PAD]', '[PAD]', '[PAD]', '[PAD]', '[PAD]', '[PAD]', '[PAD]', '[PAD]', '[PAD]', '[PAD]', '[PAD]', '[PAD]', '[PAD]', '[PAD]', '[PAD]', '[PAD]', '[PAD]', '[PAD]', '[PAD]', '[PAD]', '[PAD]', '[PAD]', '[PAD]', '[PAD]', '[PAD]', '[PAD]', '[PAD]', '[PAD]', '[PAD]', '[PAD]', '[PAD]', '[PAD]', '[PAD]', '[PAD]', '[PAD]', '[PAD]', '[PAD]', '[PAD]', '[PAD]', '[PAD]', '[PAD]', '[PAD]', '[PAD]', '[PAD]', '[PAD]', '[PAD]', '[PAD]', '[PAD]', '[PAD]', '[PAD]', '[PAD]', '[PAD]', '[PAD]', '[PAD]', '[PAD]', '[PAD]', '[PAD]', '[PAD]', '[PAD]', '[PAD]', '[PAD]', '[PAD]', '[PAD]', '[PAD]', '[PAD]', '[PAD]', '[PAD]', '[PAD]', '[PAD]', '[PAD]', '[PAD]', '[PAD]', '[PAD]', '[PAD]', '[PAD]', '[PAD]', '[PAD]', '[PAD]', '[PAD]', '[PAD]', '[PAD]', '[PAD]', '[PAD]', '[PAD]', '[PAD]', '[PAD]', '[PAD]', '[PAD]', '[PAD]', '[PAD]', '[PAD]', '[PAD]', '[PAD]', '[PAD]', '[PAD]', '[PAD]', '[PAD]', '[PAD]', '[PAD]', '[PAD]', '[PAD]', '[PAD]', '[PAD]', '[PAD]', '[PAD]', '[PAD]', '[PAD]', '[PAD]', '[PAD]', '[PAD]', '[PAD]', '[PAD]', '[PAD]', '[PAD]', '[PAD]', '[PAD]', '[PAD]', '[PAD]', '[PAD]', '[PAD]', '[PAD]', '[PAD]', '[PAD]', '[PAD]', '[PAD]', '[PAD]', '[PAD]', '[PAD]', '[PAD]', '[PAD]', '[PAD]', '[PAD]']\n",
            "{'O': 0, 'B-treatment': 1, 'I-treatment': 2, 'B-chronic_disease': 3, 'I-chronic_disease': 4, 'B-cancer': 5, 'I-cancer': 6, 'B-allergy_name': 7, 'I-allergy_name': 8}\n",
            "Labels: [0 0 0 0 0 0 1 2 2 2 0 0 0 0 0 0 0 0 0 0 0 0 0 0 0 0 0 0 0 0 0 0 0 0 0 0 0\n",
            " 0 0 0 0 0 0 0 0 0 0 0 0 0 0 0 0 0 0 0 0 0 0 0 0 0 0 0 0 0 0 0 0 0 0 0 0 0\n",
            " 0 0 0 0 0 0 0 0 0 0 0 0 0 0 0 0 0 0 0 0 0 0 0 0 0 0 0 0 0 0 0 0 0 0 0 0 0\n",
            " 0 0 0 0 0 0 0 0 0 0 0 0 0 0 0 0 0 0 0 0 0 0 0 0 0 0 0 0 0 0 0 0 0 0 0 0 0\n",
            " 0 0 0 0 0 0 0 0 0 0 0 0 0 0 0 0 0 0 0 0 0 0 0 0 0 0 0 0 0 0 0 0 0 0 0 0 0\n",
            " 0 0 0 0 0 0 0 0 0 0 0 0 0 0 0 0 0 0 0 0 0 0 0 0 0 0 0 0 0 0 0 0 0 0 0 0 0\n",
            " 0 0 0 0 0 0 0 0 0 0 0 0 0 0 0 0 0 0 0 0 0 0 0 0 0 0 0 0 0 0 0 0 0 0]\n",
            "Label names: ['O', 'O', 'O', 'O', 'O', 'O', 'B-treatment', 'I-treatment', 'I-treatment', 'I-treatment', 'O', 'O', 'O', 'O', 'O', 'O', 'O', 'O', 'O', 'O', 'O', 'O', 'O', 'O', 'O', 'O', 'O', 'O', 'O', 'O', 'O', 'O', 'O', 'O', 'O', 'O', 'O', 'O', 'O', 'O', 'O', 'O', 'O', 'O', 'O', 'O', 'O', 'O', 'O', 'O', 'O', 'O', 'O', 'O', 'O', 'O', 'O', 'O', 'O', 'O', 'O', 'O', 'O', 'O', 'O', 'O', 'O', 'O', 'O', 'O', 'O', 'O', 'O', 'O', 'O', 'O', 'O', 'O', 'O', 'O', 'O', 'O', 'O', 'O', 'O', 'O', 'O', 'O', 'O', 'O', 'O', 'O', 'O', 'O', 'O', 'O', 'O', 'O', 'O', 'O', 'O', 'O', 'O', 'O', 'O', 'O', 'O', 'O', 'O', 'O', 'O', 'O', 'O', 'O', 'O', 'O', 'O', 'O', 'O', 'O', 'O', 'O', 'O', 'O', 'O', 'O', 'O', 'O', 'O', 'O', 'O', 'O', 'O', 'O', 'O', 'O', 'O', 'O', 'O', 'O', 'O', 'O', 'O', 'O', 'O', 'O', 'O', 'O', 'O', 'O', 'O', 'O', 'O', 'O', 'O', 'O', 'O', 'O', 'O', 'O', 'O', 'O', 'O', 'O', 'O', 'O', 'O', 'O', 'O', 'O', 'O', 'O', 'O', 'O', 'O', 'O', 'O', 'O', 'O', 'O', 'O', 'O', 'O', 'O', 'O', 'O', 'O', 'O', 'O', 'O', 'O', 'O', 'O', 'O', 'O', 'O', 'O', 'O', 'O', 'O', 'O', 'O', 'O', 'O', 'O', 'O', 'O', 'O', 'O', 'O', 'O', 'O', 'O', 'O', 'O', 'O', 'O', 'O', 'O', 'O', 'O', 'O', 'O', 'O', 'O', 'O', 'O', 'O', 'O', 'O', 'O', 'O', 'O', 'O', 'O', 'O', 'O', 'O', 'O', 'O', 'O', 'O', 'O', 'O', 'O', 'O', 'O', 'O', 'O', 'O', 'O', 'O', 'O', 'O', 'O', 'O']\n"
          ]
        }
      ],
      "source": [
        "label_map = {\n",
        "    \"O\": 0,\n",
        "    \"B-treatment\": 1, \"I-treatment\": 2,\n",
        "    \"B-chronic_disease\": 3, \"I-chronic_disease\": 4,\n",
        "    \"B-cancer\": 5, \"I-cancer\": 6,\n",
        "    \"B-allergy_name\": 7, \"I-allergy_name\": 8\n",
        "}\n",
        "id2label = {v: k for k, v in label_map.items()}\n",
        "\n",
        "train_df, val_df, test_df = train_val_test_split(G1_df)\n",
        "\n",
        "train_dataset = encode_examples(train_df, tokenizer, label_map)\n",
        "\n",
        "train_dataset_list = list(train_dataset.as_numpy_iterator())\n",
        "\n",
        "ind = 4\n",
        "print(train_df.iloc[ind, 2])\n",
        "print(train_df.iloc[ind, 3])\n",
        "\n",
        "input_ids = train_dataset_list[ind]['input_ids']\n",
        "print(\"Tokens:\", tokenizer.convert_ids_to_tokens(input_ids))\n",
        "\n",
        "print(label_map)\n",
        "\n",
        "labels = train_dataset_list[ind]['labels']\n",
        "print(\"Labels:\", labels)\n",
        "print(\"Label names:\", [id2label[label] for label in labels])"
      ]
    },
    {
      "cell_type": "markdown",
      "metadata": {
        "id": "AmrO9SYV5pcf"
      },
      "source": [
        "## Model Training and Evaluation"
      ]
    },
    {
      "cell_type": "markdown",
      "metadata": {
        "id": "a3tUGlzLcpcv"
      },
      "source": [
        "- Utilizing seqeval library to process the output and calculates the F1 score for all labels.\n",
        "- Utilized BERT base model for token classification"
      ]
    },
    {
      "cell_type": "code",
      "execution_count": null,
      "metadata": {
        "id": "y27FB0Hgp59N"
      },
      "outputs": [],
      "source": [
        "def load_compile_model():\n",
        "    model = TFBertForTokenClassification.from_pretrained('bert-base-cased', num_labels=len(label_map))\n",
        "\n",
        "    optimizer = tf.keras.optimizers.Adam(learning_rate=3e-5)\n",
        "    loss = tf.keras.losses.SparseCategoricalCrossentropy(from_logits=True)\n",
        "    model.compile(optimizer=optimizer, loss=loss, metrics=['accuracy'])\n",
        "\n",
        "    return model\n",
        "\n",
        "def train_model(model, train_dataset, val_dataset, retention_dataset=None, epochs=3, batch_size=32):\n",
        "\n",
        "    train_dataset = train_dataset.shuffle(1000).batch(batch_size)\n",
        "    val_dataset = val_dataset.batch(batch_size)\n",
        "\n",
        "    # If retention_dataset is present then adding it to the train set\n",
        "    if retention_dataset is not None:\n",
        "        retention_dataset = retention_dataset.batch(batch_size)\n",
        "        train_dataset = train_dataset.concatenate(retention_dataset)\n",
        "\n",
        "    # Processing the dataset to proper format\n",
        "    train_dataset = train_dataset.map(lambda x: (\n",
        "        {'input_ids': x['input_ids'], 'attention_mask': x['attention_mask']},\n",
        "        x['labels']\n",
        "    ))\n",
        "    val_dataset = val_dataset.map(lambda x: (\n",
        "        {'input_ids': x['input_ids'], 'attention_mask': x['attention_mask']},\n",
        "        x['labels']\n",
        "    ))\n",
        "\n",
        "    history = model.fit(\n",
        "        train_dataset,\n",
        "        validation_data=val_dataset,\n",
        "        epochs=epochs\n",
        "    )\n",
        "\n",
        "    return model\n",
        "\n",
        "def evaluate_model(model, test_dataset, id2label, batch_size=32):\n",
        "    print(\"\\nEvaluating Model\\n\")\n",
        "    test_dataset = test_dataset.batch(batch_size)\n",
        "    test_dataset = test_dataset.map(lambda x: (\n",
        "        {'input_ids': x['input_ids'], 'attention_mask': x['attention_mask']},\n",
        "        x['labels']\n",
        "    ))\n",
        "\n",
        "    test_results = model.evaluate(test_dataset)\n",
        "    print(f\"Test loss: {test_results[0]:.4f}\")\n",
        "    print(f\"Test accuracy: {test_results[1]:.4f}\")\n",
        "    print(\"*\"*40)\n",
        "\n",
        "    # Evaluation part\n",
        "    y_true = []\n",
        "    y_pred = []\n",
        "\n",
        "    for batch in test_dataset:\n",
        "        labels = batch[1].numpy()\n",
        "        outputs = model(batch[0])\n",
        "        predictions = tf.argmax(outputs.logits, axis=-1).numpy()\n",
        "\n",
        "        for label, pred in zip(labels, predictions):\n",
        "            y_true.append([id2label[l] for l in label if l != -100])\n",
        "            y_pred.append([id2label[p] for p, l in zip(pred, label) if l != -100])\n",
        "\n",
        "    print(classification_report(y_true, y_pred))\n",
        "    print(\"*\"*40)\n",
        "\n",
        "    report = classification_report(y_true, y_pred, output_dict=True)\n",
        "\n",
        "    # Extracting F1 scores for each entity type\n",
        "    entity_f1_scores = {}\n",
        "    for label in ['treatment', 'chronic_disease', 'cancer', 'allergy_name']:\n",
        "        entity_f1_scores[label] = report[label]['f1-score']\n",
        "\n",
        "    weighted_avg_f1 = report['weighted avg']['f1-score']\n",
        "\n",
        "    print(\"Entity-wise F1 scores:\")\n",
        "    for entity, score in entity_f1_scores.items():\n",
        "        print(f\"{entity}: {score:.4f}\")\n",
        "    print(f\"Weighted Average F1 score: {weighted_avg_f1:.4f}\")\n",
        "\n",
        "    return entity_f1_scores, weighted_avg_f1"
      ]
    },
    {
      "cell_type": "markdown",
      "metadata": {
        "id": "CFbrG4dXAmEi"
      },
      "source": [
        "## Main Training and Helper Function"
      ]
    },
    {
      "cell_type": "code",
      "execution_count": null,
      "metadata": {
        "id": "CEe_Bg7M_d00"
      },
      "outputs": [],
      "source": [
        "## Helper functions\n",
        "def prepare_data(df, label_map):\n",
        "\n",
        "    train_df, val_df, test_df = train_val_test_split(df)\n",
        "\n",
        "    train_dataset = encode_examples(train_df, tokenizer, label_map)\n",
        "    val_dataset = encode_examples(val_df, tokenizer, label_map)\n",
        "    test_dataset = encode_examples(test_df, tokenizer, label_map)\n",
        "\n",
        "    return train_df, val_df, test_df, train_dataset, val_dataset, test_dataset\n",
        "\n",
        "def upload_to_hub(model, task_name):\n",
        "    model.save_pretrained(f\"/content/drive/MyDrive/DS/Clinic_Trail_NER/{task_name}\")\n",
        "\n",
        "    api = HfApi()\n",
        "    api.create_repo(repo_id=f\"krishnapal2308/{task_name}\", exist_ok=True)\n",
        "    api.upload_folder(\n",
        "        folder_path=f\"/content/drive/MyDrive/DS/Clinic_Trail_NER/{task_name}\",\n",
        "        repo_id=f\"krishnapal2308/{task_name}\",\n",
        "        repo_type=\"model\",\n",
        "    )\n",
        "    print(f\"Model uploaded to https://huggingface.co/krishnapal2308/{task_name}\")\n",
        "\n",
        "def get_all_scores(results):\n",
        "  score_dict = {'Weighted Average':[]}\n",
        "  for result in results:\n",
        "    for entity, score in result[0].items():\n",
        "      score_dict[entity] = score_dict.get(entity,[])\n",
        "      score_dict[entity].append(score)\n",
        "    score_dict['Weighted Average'].append(result[1])\n",
        "  score_df = pd.DataFrame(score_dict)\n",
        "  return score_df\n",
        "\n",
        "## Main\n",
        "def main(df, model, label_map, retention_df=None):\n",
        "\n",
        "    _, _, _, train_dataset, val_dataset, test_dataset = prepare_data(df, label_map)\n",
        "    print(\"*\"*40)\n",
        "    if retention_df is not None:\n",
        "        retention_dataset = encode_examples(retention_df, tokenizer, label_map)\n",
        "    else:\n",
        "        retention_dataset = None\n",
        "\n",
        "    model = train_model(model, train_dataset, val_dataset, retention_dataset, epochs=3, batch_size=32)\n",
        "    print(\"*\"*40)\n",
        "\n",
        "    id2label = {v: k for k, v in label_map.items()}\n",
        "    entity_f1_scores, weighted_avg_f1 = evaluate_model(model, test_dataset, id2label, batch_size=32)\n",
        "    print(\"*\"*40)\n",
        "    return (entity_f1_scores, weighted_avg_f1), model\n"
      ]
    },
    {
      "cell_type": "markdown",
      "metadata": {
        "id": "AbIWByXtCkaO"
      },
      "source": [
        "## Experimental Setup and Data Sampling"
      ]
    },
    {
      "cell_type": "markdown",
      "metadata": {
        "id": "ftYsjltwcpcw"
      },
      "source": [
        "- The sample_balanced_examples function takes a list of dataframes as input and returns a balanced subset of 100 unique samples. It ensures equal representation across label categories (25 samples per category in this case) and avoids duplicates between dataframes"
      ]
    },
    {
      "cell_type": "code",
      "execution_count": 8,
      "metadata": {
        "id": "Zv9CWocwUlJ1"
      },
      "outputs": [],
      "source": [
        "def sample_balanced_examples(dfs, n_samples=100, label_categories=['treatment', 'chronic_disease', 'cancer', 'allergy_name']):\n",
        "    all_texts = set()\n",
        "    sampled_df = pd.DataFrame()\n",
        "\n",
        "    combined_df = pd.concat(dfs).reset_index(drop=True)\n",
        "\n",
        "    combined_df = combined_df.sample(frac=1, random_state=42).reset_index(drop=True)\n",
        "\n",
        "    # Samples per label\n",
        "    samples_per_label = n_samples // len(label_categories)\n",
        "\n",
        "    # Sampling rows for each label\n",
        "    label_samples = {label: [] for label in label_categories}\n",
        "    for _, row in combined_df.iterrows():\n",
        "        if row['text'] in all_texts:\n",
        "            continue\n",
        "        for entity in row['entities']:\n",
        "            label = entity['label']\n",
        "            if label in label_categories and len(label_samples[label]) < samples_per_label:\n",
        "                label_samples[label].append(row)\n",
        "                all_texts.add(row['text'])\n",
        "                break  # Moving to next row after adding it to a label\n",
        "        if len(all_texts) >= n_samples:\n",
        "            break\n",
        "\n",
        "    sampled_rows = [row for label_rows in label_samples.values() for row in label_rows]\n",
        "\n",
        "    # If less than n_samples then adding more rows randomly\n",
        "    remaining_rows = combined_df[~combined_df['text'].isin(all_texts)]\n",
        "    while len(sampled_rows) < n_samples and not remaining_rows.empty:\n",
        "        row = remaining_rows.iloc[0]\n",
        "        sampled_rows.append(row)\n",
        "        all_texts.add(row['text'])\n",
        "        remaining_rows = remaining_rows.iloc[1:]\n",
        "\n",
        "    # If more than n_samples then randomly removing extras\n",
        "    if len(sampled_rows) > n_samples:\n",
        "        sampled_rows = random.sample(sampled_rows, n_samples)\n",
        "\n",
        "    sampled_df = pd.DataFrame(sampled_rows)\n",
        "\n",
        "    # Label Distribution\n",
        "    label_counts = {}\n",
        "    for label in label_categories:\n",
        "        count = 0\n",
        "        for row in sampled_df['entities']:\n",
        "            for entity in row:\n",
        "                if entity['label'] == label:\n",
        "                    count += 1\n",
        "        label_counts[label] = count\n",
        "\n",
        "    print(f\"Shape of sampled dataframe: {sampled_df.shape}\")\n",
        "    print(f\"Label distribution for sampled dataframe:\")\n",
        "    for label, count in label_counts.items():\n",
        "        print(f\"{label}: {count}\")\n",
        "    print()\n",
        "    return sampled_df"
      ]
    },
    {
      "cell_type": "code",
      "execution_count": null,
      "metadata": {
        "colab": {
          "base_uri": "https://localhost:8080/",
          "height": 118,
          "referenced_widgets": [
            "f22876a9bb8d4a5eb7d8b8af54ee865a",
            "a108a10cf8e749a7821d0e2f1ffd61cb",
            "521d53d3b9fa4183a7e0f523de7cc94d",
            "8db087aafb0140e2a427f5cce9c6a56e",
            "a390bba01bc340aca7b98cffea8022b5",
            "6a349d50f70f44d08389b2977ac60e51",
            "75b60ec3b8e24c1b95dfd48a62803a35",
            "59adff2078fa487e9bf337137397d62b",
            "5031bbd74be94accbd6d1ff54a74d1ff",
            "d8da2915828c45daa3975fdb9bb405b6",
            "60318ba7d5364b20a806fada0773cc4e"
          ]
        },
        "id": "xCKiziHFqJNz",
        "outputId": "712e3ade-c4ba-4a52-925d-82c8208f63f0"
      },
      "outputs": [
        {
          "data": {
            "application/vnd.jupyter.widget-view+json": {
              "model_id": "f22876a9bb8d4a5eb7d8b8af54ee865a",
              "version_major": 2,
              "version_minor": 0
            },
            "text/plain": [
              "model.safetensors:   0%|          | 0.00/436M [00:00<?, ?B/s]"
            ]
          },
          "metadata": {},
          "output_type": "display_data"
        },
        {
          "name": "stderr",
          "output_type": "stream",
          "text": [
            "All PyTorch model weights were used when initializing TFBertForTokenClassification.\n",
            "\n",
            "Some weights or buffers of the TF 2.0 model TFBertForTokenClassification were not initialized from the PyTorch model and are newly initialized: ['classifier.weight', 'classifier.bias']\n",
            "You should probably TRAIN this model on a down-stream task to be able to use it for predictions and inference.\n"
          ]
        }
      ],
      "source": [
        "hf_token = userdata.get('HF_TOKEN')\n",
        "HfFolder.save_token(hf_token)\n",
        "\n",
        "base_model = load_compile_model()\n",
        "## tokenizer initialized in Data Loading, EDA and Preprocessing while counting tokens"
      ]
    },
    {
      "cell_type": "code",
      "execution_count": null,
      "metadata": {
        "colab": {
          "base_uri": "https://localhost:8080/"
        },
        "id": "P7QXZ1npUyxt",
        "outputId": "8afda7ba-6a10-4abc-b12b-c68a334d3e7a"
      },
      "outputs": [
        {
          "name": "stdout",
          "output_type": "stream",
          "text": [
            "Shape of sampled dataframe: (100, 4)\n",
            "Label distribution for sampled dataframe:\n",
            "treatment: 67\n",
            "chronic_disease: 45\n",
            "cancer: 30\n",
            "allergy_name: 37\n",
            "\n",
            "Shape of sampled dataframe: (100, 4)\n",
            "Label distribution for sampled dataframe:\n",
            "treatment: 87\n",
            "chronic_disease: 59\n",
            "cancer: 36\n",
            "allergy_name: 38\n",
            "\n"
          ]
        }
      ],
      "source": [
        "T1_samples = sample_balanced_examples([G1_df])\n",
        "\n",
        "T2_samples = sample_balanced_examples([G1_df, G2_df])\n",
        "\n",
        "# T3_samples = sample_balanced_examples([G1_df, G2_df, G3_df])\n",
        "# T3_samples.to_excel('T3_Samples.xlsx',index=False)"
      ]
    },
    {
      "cell_type": "markdown",
      "metadata": {
        "id": "GyveYllZDrnU"
      },
      "source": [
        "## Training Experiments"
      ]
    },
    {
      "cell_type": "markdown",
      "metadata": {
        "id": "lP139qaiDvN5"
      },
      "source": [
        "### Task 1 Results"
      ]
    },
    {
      "cell_type": "code",
      "execution_count": null,
      "metadata": {
        "colab": {
          "base_uri": "https://localhost:8080/",
          "height": 709,
          "referenced_widgets": [
            "32e81209ebd54b1c8cfacc012112c52d",
            "1631d9befaa5428caa71cf7c8ddfb18c",
            "f2f675067875436094dfce15da437dc2",
            "0c90acbeefa24dd2b0693ab50a3c8a52",
            "f3fb18805df94ed6a24266b10e251629",
            "61f03fae177c424ba31707c085b1abcf",
            "19afe535c1f74355a62b91977025c572",
            "a291db9089b6498db7e07edde2442437",
            "c46a751af83945318955e687911e2e14",
            "4a0afb3c14a742b69e3ddb2cea8945e3",
            "81e23eb7e5e94bbab0951f5c185f112d"
          ]
        },
        "id": "yAJ5wSHoDEhL",
        "outputId": "4d045a05-5790-499f-bd65-0eb738d62a30"
      },
      "outputs": [
        {
          "name": "stdout",
          "output_type": "stream",
          "text": [
            "Training set size: (4706, 4)\n",
            "Val size: (1177, 4)\n",
            "Test set size: (1471, 4)\n",
            "****************************************\n",
            "Epoch 1/3\n",
            "148/148 [==============================] - 334s 2s/step - loss: 0.1325 - accuracy: 0.9699 - val_loss: 0.0426 - val_accuracy: 0.9863\n",
            "Epoch 2/3\n",
            "148/148 [==============================] - 292s 2s/step - loss: 0.0337 - accuracy: 0.9893 - val_loss: 0.0310 - val_accuracy: 0.9898\n",
            "Epoch 3/3\n",
            "148/148 [==============================] - 293s 2s/step - loss: 0.0231 - accuracy: 0.9925 - val_loss: 0.0301 - val_accuracy: 0.9907\n",
            "****************************************\n",
            "\n",
            "Evaluating Model\n",
            "\n",
            "46/46 [==============================] - 28s 598ms/step - loss: 0.0311 - accuracy: 0.9908\n",
            "Test loss: 0.0311\n",
            "Test accuracy: 0.9908\n",
            "****************************************\n",
            "                 precision    recall  f1-score   support\n",
            "\n",
            "   allergy_name       0.13      0.12      0.12        51\n",
            "         cancer       0.55      0.71      0.62       387\n",
            "chronic_disease       0.66      0.76      0.71      1118\n",
            "      treatment       0.57      0.75      0.65      1248\n",
            "\n",
            "      micro avg       0.60      0.73      0.66      2804\n",
            "      macro avg       0.48      0.58      0.53      2804\n",
            "   weighted avg       0.60      0.73      0.66      2804\n",
            "\n",
            "****************************************\n",
            "Entity-wise F1 scores:\n",
            "treatment: 0.6489\n",
            "chronic_disease: 0.7071\n",
            "cancer: 0.6220\n",
            "allergy_name: 0.1250\n",
            "Weighted Average F1 score: 0.6589\n",
            "****************************************\n"
          ]
        },
        {
          "data": {
            "application/vnd.jupyter.widget-view+json": {
              "model_id": "32e81209ebd54b1c8cfacc012112c52d",
              "version_major": 2,
              "version_minor": 0
            },
            "text/plain": [
              "tf_model.h5:   0%|          | 0.00/431M [00:00<?, ?B/s]"
            ]
          },
          "metadata": {},
          "output_type": "display_data"
        },
        {
          "name": "stdout",
          "output_type": "stream",
          "text": [
            "Model uploaded to https://huggingface.co/krishnapal2308/NER-Task1\n"
          ]
        }
      ],
      "source": [
        "T1_results, T1_model = main(G1_df, base_model, label_map)\n",
        "upload_to_hub(T1_model, \"NER-Task1\")"
      ]
    },
    {
      "cell_type": "markdown",
      "metadata": {
        "id": "zjw_3UFTcpc1"
      },
      "source": [
        "- Poor performance on allergy entities due to label imbalance"
      ]
    },
    {
      "cell_type": "markdown",
      "metadata": {
        "id": "BQojnH6ODyNN"
      },
      "source": [
        "### Task 2 Results"
      ]
    },
    {
      "cell_type": "code",
      "execution_count": null,
      "metadata": {
        "colab": {
          "base_uri": "https://localhost:8080/",
          "height": 709,
          "referenced_widgets": [
            "f6dd4f95ee6942ff91b5ca57d93fac9b",
            "d0fea3782ffc4d07bfe104fb31bd9f13",
            "a28e2d526bb041eb84ce9afbeff5fba5",
            "89c2c45d573f4fb2903c7ae98785af31",
            "c867487db3b54a2995a63f4e4f0c6f37",
            "f44df7d5894f4126964ea84af564a465",
            "e315c16b51e141929524f9ec7b05a97f",
            "88c20fe12ae1461ebe63be75a7597d14",
            "7bd9de4b18784c2db9ea14359cd591bf",
            "0d3ef630cdbb4ad2a634776c46d09799",
            "04c4b84eb9b84862b166acd3cb7ac9e2"
          ]
        },
        "id": "t8J_1nrPG9tf",
        "outputId": "fb84c381-bc6a-4e6b-c6f6-f62abf2f74cf"
      },
      "outputs": [
        {
          "name": "stdout",
          "output_type": "stream",
          "text": [
            "Training set size: (4128, 4)\n",
            "Val size: (1033, 4)\n",
            "Test set size: (1291, 4)\n",
            "****************************************\n",
            "Epoch 1/3\n",
            "133/133 [==============================] - 243s 2s/step - loss: 0.0320 - accuracy: 0.9893 - val_loss: 0.0273 - val_accuracy: 0.9909\n",
            "Epoch 2/3\n",
            "133/133 [==============================] - 245s 2s/step - loss: 0.0229 - accuracy: 0.9923 - val_loss: 0.0268 - val_accuracy: 0.9911\n",
            "Epoch 3/3\n",
            "133/133 [==============================] - 246s 2s/step - loss: 0.0172 - accuracy: 0.9941 - val_loss: 0.0278 - val_accuracy: 0.9915\n",
            "****************************************\n",
            "\n",
            "Evaluating Model\n",
            "\n",
            "41/41 [==============================] - 23s 569ms/step - loss: 0.0294 - accuracy: 0.9906\n",
            "Test loss: 0.0294\n",
            "Test accuracy: 0.9906\n",
            "****************************************\n",
            "                 precision    recall  f1-score   support\n",
            "\n",
            "   allergy_name       0.59      0.89      0.71        54\n",
            "         cancer       0.60      0.74      0.66       372\n",
            "chronic_disease       0.67      0.73      0.70      1089\n",
            "      treatment       0.62      0.74      0.68      1143\n",
            "\n",
            "      micro avg       0.64      0.74      0.69      2658\n",
            "      macro avg       0.62      0.78      0.69      2658\n",
            "   weighted avg       0.64      0.74      0.69      2658\n",
            "\n",
            "****************************************\n",
            "Entity-wise F1 scores:\n",
            "treatment: 0.6794\n",
            "chronic_disease: 0.7013\n",
            "cancer: 0.6618\n",
            "allergy_name: 0.7111\n",
            "Weighted Average F1 score: 0.6866\n",
            "****************************************\n"
          ]
        },
        {
          "data": {
            "application/vnd.jupyter.widget-view+json": {
              "model_id": "f6dd4f95ee6942ff91b5ca57d93fac9b",
              "version_major": 2,
              "version_minor": 0
            },
            "text/plain": [
              "tf_model.h5:   0%|          | 0.00/431M [00:00<?, ?B/s]"
            ]
          },
          "metadata": {},
          "output_type": "display_data"
        },
        {
          "name": "stdout",
          "output_type": "stream",
          "text": [
            "Model uploaded to https://huggingface.co/krishnapal2308/NER-Task2\n"
          ]
        }
      ],
      "source": [
        "T2_results, T2_model = main(G2_df, T1_model, label_map, retention_df=T1_samples)\n",
        "upload_to_hub(T2_model, \"NER-Task2\")"
      ]
    },
    {
      "cell_type": "markdown",
      "metadata": {
        "id": "SYBwb1Iecpc2"
      },
      "source": [
        "- Overall scores improved, including for allergy entities, with additional samples"
      ]
    },
    {
      "cell_type": "markdown",
      "metadata": {
        "id": "JgD420XmD0RR"
      },
      "source": [
        "### Task 3 Results"
      ]
    },
    {
      "cell_type": "code",
      "execution_count": null,
      "metadata": {
        "colab": {
          "base_uri": "https://localhost:8080/",
          "height": 709,
          "referenced_widgets": [
            "4c47112e32b74ee5825add29264b4c77",
            "b4cadc833c0140009ca35241a595bb31",
            "cbb5105b8a59440ea4b2449b2d49bff4",
            "95e1720fc79547f984f524ff0b788b77",
            "ca573bef4ea04c108c399ac1950a1a76",
            "d7a3132cf1904e818cfd6b516c236419",
            "04ace89b1ed1479882a6281da3e0e566",
            "7178e924351f4dbc90b8e0a5ff74b70e",
            "475fb21f82cc4292a200d2cad3510304",
            "e7c865f0d8e347aa872f9b42d85b7ca6",
            "9c9c9c8953e04acabf6f8e47014fc52f"
          ]
        },
        "id": "cyet1DzPGmp3",
        "outputId": "5e00b21e-4b2b-4f1c-cafa-f111a93d1467"
      },
      "outputs": [
        {
          "name": "stdout",
          "output_type": "stream",
          "text": [
            "Training set size: (4016, 4)\n",
            "Val size: (1004, 4)\n",
            "Test set size: (1255, 4)\n",
            "****************************************\n",
            "Epoch 1/3\n",
            "130/130 [==============================] - 240s 2s/step - loss: 0.0286 - accuracy: 0.9901 - val_loss: 0.0280 - val_accuracy: 0.9907\n",
            "Epoch 2/3\n",
            "130/130 [==============================] - 237s 2s/step - loss: 0.0201 - accuracy: 0.9931 - val_loss: 0.0285 - val_accuracy: 0.9907\n",
            "Epoch 3/3\n",
            "130/130 [==============================] - 240s 2s/step - loss: 0.0151 - accuracy: 0.9949 - val_loss: 0.0311 - val_accuracy: 0.9907\n",
            "****************************************\n",
            "\n",
            "Evaluating Model\n",
            "\n",
            "40/40 [==============================] - 23s 568ms/step - loss: 0.0287 - accuracy: 0.9910\n",
            "Test loss: 0.0287\n",
            "Test accuracy: 0.9910\n",
            "****************************************\n",
            "                 precision    recall  f1-score   support\n",
            "\n",
            "   allergy_name       0.61      0.82      0.70        77\n",
            "         cancer       0.65      0.75      0.69       332\n",
            "chronic_disease       0.67      0.77      0.71      1035\n",
            "      treatment       0.65      0.75      0.70      1139\n",
            "\n",
            "      micro avg       0.66      0.76      0.70      2583\n",
            "      macro avg       0.65      0.77      0.70      2583\n",
            "   weighted avg       0.66      0.76      0.70      2583\n",
            "\n",
            "****************************************\n",
            "Entity-wise F1 scores:\n",
            "treatment: 0.7009\n",
            "chronic_disease: 0.7126\n",
            "cancer: 0.6947\n",
            "allergy_name: 0.7000\n",
            "Weighted Average F1 score: 0.7048\n",
            "****************************************\n"
          ]
        },
        {
          "data": {
            "application/vnd.jupyter.widget-view+json": {
              "model_id": "4c47112e32b74ee5825add29264b4c77",
              "version_major": 2,
              "version_minor": 0
            },
            "text/plain": [
              "tf_model.h5:   0%|          | 0.00/431M [00:00<?, ?B/s]"
            ]
          },
          "metadata": {},
          "output_type": "display_data"
        },
        {
          "name": "stdout",
          "output_type": "stream",
          "text": [
            "Model uploaded to https://huggingface.co/krishnapal2308/NER-Task3\n"
          ]
        }
      ],
      "source": [
        "T3_results, T3_model = main(G3_df, T2_model, label_map, retention_df=T2_samples)\n",
        "upload_to_hub(T3_model, \"NER-Task3\")"
      ]
    },
    {
      "cell_type": "markdown",
      "metadata": {
        "id": "f5sagrTUcpc2"
      },
      "source": [
        "- Further improvement in weighted average F1 score"
      ]
    },
    {
      "cell_type": "markdown",
      "metadata": {
        "id": "ovSrueU8ElQq"
      },
      "source": [
        "### Combined Dataset Evaluation"
      ]
    },
    {
      "cell_type": "code",
      "execution_count": null,
      "metadata": {
        "colab": {
          "base_uri": "https://localhost:8080/"
        },
        "id": "MygUZffQAXdQ",
        "outputId": "eb901062-788a-4f60-93e5-bd09db4ea182"
      },
      "outputs": [
        {
          "name": "stdout",
          "output_type": "stream",
          "text": [
            "Training set size: (12851, 4)\n",
            "Val size: (3213, 4)\n",
            "Test set size: (4017, 4)\n",
            "\n",
            "Evaluating Model\n",
            "\n",
            "126/126 [==============================] - 74s 585ms/step - loss: 0.0192 - accuracy: 0.9940\n",
            "Test loss: 0.0192\n",
            "Test accuracy: 0.9940\n",
            "****************************************\n",
            "                 precision    recall  f1-score   support\n",
            "\n",
            "   allergy_name       0.67      0.81      0.73       225\n",
            "         cancer       0.70      0.77      0.74      1089\n",
            "chronic_disease       0.77      0.83      0.80      3153\n",
            "      treatment       0.70      0.81      0.75      3481\n",
            "\n",
            "      micro avg       0.73      0.81      0.77      7948\n",
            "      macro avg       0.71      0.80      0.75      7948\n",
            "   weighted avg       0.73      0.81      0.77      7948\n",
            "\n",
            "****************************************\n",
            "Entity-wise F1 scores:\n",
            "treatment: 0.7525\n",
            "chronic_disease: 0.7958\n",
            "cancer: 0.7358\n",
            "allergy_name: 0.7339\n",
            "Weighted Average F1 score: 0.7669\n"
          ]
        }
      ],
      "source": [
        "# Evaluate on combined test set\n",
        "combined_df = pd.concat([G1_df, G2_df, G3_df])\n",
        "_, _, combined_test_df, _, _, combined_test_dataset = prepare_data(combined_df, label_map)\n",
        "\n",
        "combined_results = evaluate_model(T3_model, combined_test_dataset, id2label, batch_size=32)"
      ]
    },
    {
      "cell_type": "markdown",
      "metadata": {
        "id": "Zl6NbFguD4vg"
      },
      "source": [
        "### Comparison to Joint Training"
      ]
    },
    {
      "cell_type": "markdown",
      "metadata": {
        "id": "dwAFCas-cpc3"
      },
      "source": [
        "- Trained base model on combined dataset to benchmark against continual learning approach"
      ]
    },
    {
      "cell_type": "code",
      "execution_count": null,
      "metadata": {
        "colab": {
          "base_uri": "https://localhost:8080/",
          "height": 778,
          "referenced_widgets": [
            "40d9d299fe4e4ef9bae8116a60998af1",
            "7772426fcb1d4ad5a8637cc61f2eac3b",
            "64cbc5af152747b19d54b3417fd47a5f",
            "881c15e9f9914a02a5e1e1c8ba3061e7",
            "ccc2d968286c407ca5ce09f7234ac3ae",
            "af78198bc5214a518d5755fdd4ea3cf4",
            "abbedea8364145fe9f2b86751e7536c0",
            "59de7224d75e4d83a9305aaecc9f64ad",
            "9732931b6d5947c79df885d66cf56d6e",
            "2e305e24a5ee447dbd79da95f2149b64",
            "9ae5a343dae8491694c6bac6bc52c2e4"
          ]
        },
        "id": "b6LTUooXAXWf",
        "outputId": "bd17980a-e911-4b51-fff4-40d85f55c0eb"
      },
      "outputs": [
        {
          "name": "stderr",
          "output_type": "stream",
          "text": [
            "All PyTorch model weights were used when initializing TFBertForTokenClassification.\n",
            "\n",
            "Some weights or buffers of the TF 2.0 model TFBertForTokenClassification were not initialized from the PyTorch model and are newly initialized: ['classifier.weight', 'classifier.bias']\n",
            "You should probably TRAIN this model on a down-stream task to be able to use it for predictions and inference.\n"
          ]
        },
        {
          "name": "stdout",
          "output_type": "stream",
          "text": [
            "Training set size: (12851, 4)\n",
            "Val size: (3213, 4)\n",
            "Test set size: (4017, 4)\n",
            "****************************************\n",
            "Epoch 1/3\n",
            "402/402 [==============================] - 781s 2s/step - loss: 0.0759 - accuracy: 0.9795 - val_loss: 0.0283 - val_accuracy: 0.9904\n",
            "Epoch 2/3\n",
            "402/402 [==============================] - 740s 2s/step - loss: 0.0254 - accuracy: 0.9914 - val_loss: 0.0267 - val_accuracy: 0.9910\n",
            "Epoch 3/3\n",
            "402/402 [==============================] - 739s 2s/step - loss: 0.0199 - accuracy: 0.9932 - val_loss: 0.0254 - val_accuracy: 0.9917\n",
            "****************************************\n",
            "\n",
            "Evaluating Model\n",
            "\n",
            "126/126 [==============================] - 73s 576ms/step - loss: 0.0252 - accuracy: 0.9918\n",
            "Test loss: 0.0252\n",
            "Test accuracy: 0.9918\n",
            "****************************************\n",
            "                 precision    recall  f1-score   support\n",
            "\n",
            "   allergy_name       0.70      0.70      0.70       225\n",
            "         cancer       0.62      0.74      0.68      1089\n",
            "chronic_disease       0.71      0.77      0.74      3153\n",
            "      treatment       0.68      0.76      0.72      3481\n",
            "\n",
            "      micro avg       0.69      0.76      0.72      7948\n",
            "      macro avg       0.68      0.74      0.71      7948\n",
            "   weighted avg       0.69      0.76      0.72      7948\n",
            "\n",
            "****************************************\n",
            "Entity-wise F1 scores:\n",
            "treatment: 0.7181\n",
            "chronic_disease: 0.7401\n",
            "cancer: 0.6750\n",
            "allergy_name: 0.6978\n",
            "Weighted Average F1 score: 0.7204\n",
            "****************************************\n"
          ]
        },
        {
          "data": {
            "application/vnd.jupyter.widget-view+json": {
              "model_id": "40d9d299fe4e4ef9bae8116a60998af1",
              "version_major": 2,
              "version_minor": 0
            },
            "text/plain": [
              "tf_model.h5:   0%|          | 0.00/431M [00:00<?, ?B/s]"
            ]
          },
          "metadata": {},
          "output_type": "display_data"
        },
        {
          "name": "stdout",
          "output_type": "stream",
          "text": [
            "Model uploaded to https://huggingface.co/krishnapal2308/NER-Combined\n"
          ]
        }
      ],
      "source": [
        "# Train and evaluate on combined dataset\n",
        "combined_model = load_compile_model()\n",
        "combined_results_full, combined_model_full = main(combined_df, combined_model, label_map)\n",
        "upload_to_hub(combined_model_full, \"NER-Combined\")"
      ]
    },
    {
      "cell_type": "markdown",
      "metadata": {
        "id": "35oqJvaQEDPj"
      },
      "source": [
        "## Final Results and Analysis"
      ]
    },
    {
      "cell_type": "markdown",
      "metadata": {
        "id": "xp38KckXmQmF"
      },
      "source": [
        "- Gradual improvement in overall performance, particularly in the weighted average F1 score.\n",
        "- Successful mitigation of catastrophic forgetting (Knowledge Retention) by retaining a small subset of examples from previous tasks.\n",
        "- The continually trained model outperformed the jointly trained base model on the combined test set, proving the effectiveness of this approach.\n",
        "- Improved ability to recognize rare entities (like allergies) as more data was added."
      ]
    },
    {
      "cell_type": "code",
      "execution_count": null,
      "metadata": {
        "colab": {
          "base_uri": "https://localhost:8080/",
          "height": 241
        },
        "id": "s3lAgyg6AXQH",
        "outputId": "46fc852b-b704-44e2-a85f-5d513e4a3ecf"
      },
      "outputs": [
        {
          "data": {
            "application/vnd.google.colaboratory.intrinsic+json": {
              "summary": "{\n  \"name\": \"all_scores_df\",\n  \"rows\": 5,\n  \"fields\": [\n    {\n      \"column\": \"Performance on the test set of T1\",\n      \"properties\": {\n        \"dtype\": \"number\",\n        \"std\": 0.24087828321926344,\n        \"min\": 0.125,\n        \"max\": 0.7071129707112971,\n        \"num_unique_values\": 5,\n        \"samples\": [\n          0.6488549618320612,\n          0.125,\n          0.7071129707112971\n        ],\n        \"semantic_type\": \"\",\n        \"description\": \"\"\n      }\n    },\n    {\n      \"column\": \"Performance on the test set of T1 and T2.\",\n      \"properties\": {\n        \"dtype\": \"number\",\n        \"std\": 0.01917938392991782,\n        \"min\": 0.6618357487922706,\n        \"max\": 0.711111111111111,\n        \"num_unique_values\": 5,\n        \"samples\": [\n          0.679441117764471,\n          0.711111111111111,\n          0.7013215859030837\n        ],\n        \"semantic_type\": \"\",\n        \"description\": \"\"\n      }\n    },\n    {\n      \"column\": \"Performance on the test set of T1, T2 and T3.\",\n      \"properties\": {\n        \"dtype\": \"number\",\n        \"std\": 0.006632393861647695,\n        \"min\": 0.6946778711484594,\n        \"max\": 0.7125506072874495,\n        \"num_unique_values\": 5,\n        \"samples\": [\n          0.7009383924928602,\n          0.7,\n          0.7125506072874495\n        ],\n        \"semantic_type\": \"\",\n        \"description\": \"\"\n      }\n    },\n    {\n      \"column\": \"Performance on combined G1+G2+G3\",\n      \"properties\": {\n        \"dtype\": \"number\",\n        \"std\": 0.02555513896862901,\n        \"min\": 0.7338709677419354,\n        \"max\": 0.7958498626792798,\n        \"num_unique_values\": 5,\n        \"samples\": [\n          0.7525360384410038,\n          0.7338709677419354,\n          0.7958498626792798\n        ],\n        \"semantic_type\": \"\",\n        \"description\": \"\"\n      }\n    },\n    {\n      \"column\": \"Performance of base_trained model on combined G1+G2+G3\",\n      \"properties\": {\n        \"dtype\": \"number\",\n        \"std\": 0.02475992081571019,\n        \"min\": 0.6750418760469011,\n        \"max\": 0.7401310775796373,\n        \"num_unique_values\": 5,\n        \"samples\": [\n          0.7181098060639169,\n          0.6977777777777778,\n          0.7401310775796373\n        ],\n        \"semantic_type\": \"\",\n        \"description\": \"\"\n      }\n    }\n  ]\n}",
              "type": "dataframe",
              "variable_name": "all_scores_df"
            },
            "text/html": [
              "\n",
              "  <div id=\"df-b7f81ea0-138e-4a8a-830f-7f959eb18c1f\" class=\"colab-df-container\">\n",
              "    <div>\n",
              "<style scoped>\n",
              "    .dataframe tbody tr th:only-of-type {\n",
              "        vertical-align: middle;\n",
              "    }\n",
              "\n",
              "    .dataframe tbody tr th {\n",
              "        vertical-align: top;\n",
              "    }\n",
              "\n",
              "    .dataframe thead th {\n",
              "        text-align: right;\n",
              "    }\n",
              "</style>\n",
              "<table border=\"1\" class=\"dataframe\">\n",
              "  <thead>\n",
              "    <tr style=\"text-align: right;\">\n",
              "      <th></th>\n",
              "      <th>Performance on the test set of T1</th>\n",
              "      <th>Performance on the test set of T1 and T2.</th>\n",
              "      <th>Performance on the test set of T1, T2 and T3.</th>\n",
              "      <th>Performance on combined G1+G2+G3</th>\n",
              "      <th>Performance of base_trained model on combined G1+G2+G3</th>\n",
              "    </tr>\n",
              "  </thead>\n",
              "  <tbody>\n",
              "    <tr>\n",
              "      <th>Weighted Average</th>\n",
              "      <td>0.658852</td>\n",
              "      <td>0.686585</td>\n",
              "      <td>0.704759</td>\n",
              "      <td>0.766895</td>\n",
              "      <td>0.720369</td>\n",
              "    </tr>\n",
              "    <tr>\n",
              "      <th>treatment</th>\n",
              "      <td>0.648855</td>\n",
              "      <td>0.679441</td>\n",
              "      <td>0.700938</td>\n",
              "      <td>0.752536</td>\n",
              "      <td>0.718110</td>\n",
              "    </tr>\n",
              "    <tr>\n",
              "      <th>chronic_disease</th>\n",
              "      <td>0.707113</td>\n",
              "      <td>0.701322</td>\n",
              "      <td>0.712551</td>\n",
              "      <td>0.795850</td>\n",
              "      <td>0.740131</td>\n",
              "    </tr>\n",
              "    <tr>\n",
              "      <th>cancer</th>\n",
              "      <td>0.622020</td>\n",
              "      <td>0.661836</td>\n",
              "      <td>0.694678</td>\n",
              "      <td>0.735783</td>\n",
              "      <td>0.675042</td>\n",
              "    </tr>\n",
              "    <tr>\n",
              "      <th>allergy_name</th>\n",
              "      <td>0.125000</td>\n",
              "      <td>0.711111</td>\n",
              "      <td>0.700000</td>\n",
              "      <td>0.733871</td>\n",
              "      <td>0.697778</td>\n",
              "    </tr>\n",
              "  </tbody>\n",
              "</table>\n",
              "</div>\n",
              "    <div class=\"colab-df-buttons\">\n",
              "\n",
              "  <div class=\"colab-df-container\">\n",
              "    <button class=\"colab-df-convert\" onclick=\"convertToInteractive('df-b7f81ea0-138e-4a8a-830f-7f959eb18c1f')\"\n",
              "            title=\"Convert this dataframe to an interactive table.\"\n",
              "            style=\"display:none;\">\n",
              "\n",
              "  <svg xmlns=\"http://www.w3.org/2000/svg\" height=\"24px\" viewBox=\"0 -960 960 960\">\n",
              "    <path d=\"M120-120v-720h720v720H120Zm60-500h600v-160H180v160Zm220 220h160v-160H400v160Zm0 220h160v-160H400v160ZM180-400h160v-160H180v160Zm440 0h160v-160H620v160ZM180-180h160v-160H180v160Zm440 0h160v-160H620v160Z\"/>\n",
              "  </svg>\n",
              "    </button>\n",
              "\n",
              "  <style>\n",
              "    .colab-df-container {\n",
              "      display:flex;\n",
              "      gap: 12px;\n",
              "    }\n",
              "\n",
              "    .colab-df-convert {\n",
              "      background-color: #E8F0FE;\n",
              "      border: none;\n",
              "      border-radius: 50%;\n",
              "      cursor: pointer;\n",
              "      display: none;\n",
              "      fill: #1967D2;\n",
              "      height: 32px;\n",
              "      padding: 0 0 0 0;\n",
              "      width: 32px;\n",
              "    }\n",
              "\n",
              "    .colab-df-convert:hover {\n",
              "      background-color: #E2EBFA;\n",
              "      box-shadow: 0px 1px 2px rgba(60, 64, 67, 0.3), 0px 1px 3px 1px rgba(60, 64, 67, 0.15);\n",
              "      fill: #174EA6;\n",
              "    }\n",
              "\n",
              "    .colab-df-buttons div {\n",
              "      margin-bottom: 4px;\n",
              "    }\n",
              "\n",
              "    [theme=dark] .colab-df-convert {\n",
              "      background-color: #3B4455;\n",
              "      fill: #D2E3FC;\n",
              "    }\n",
              "\n",
              "    [theme=dark] .colab-df-convert:hover {\n",
              "      background-color: #434B5C;\n",
              "      box-shadow: 0px 1px 3px 1px rgba(0, 0, 0, 0.15);\n",
              "      filter: drop-shadow(0px 1px 2px rgba(0, 0, 0, 0.3));\n",
              "      fill: #FFFFFF;\n",
              "    }\n",
              "  </style>\n",
              "\n",
              "    <script>\n",
              "      const buttonEl =\n",
              "        document.querySelector('#df-b7f81ea0-138e-4a8a-830f-7f959eb18c1f button.colab-df-convert');\n",
              "      buttonEl.style.display =\n",
              "        google.colab.kernel.accessAllowed ? 'block' : 'none';\n",
              "\n",
              "      async function convertToInteractive(key) {\n",
              "        const element = document.querySelector('#df-b7f81ea0-138e-4a8a-830f-7f959eb18c1f');\n",
              "        const dataTable =\n",
              "          await google.colab.kernel.invokeFunction('convertToInteractive',\n",
              "                                                    [key], {});\n",
              "        if (!dataTable) return;\n",
              "\n",
              "        const docLinkHtml = 'Like what you see? Visit the ' +\n",
              "          '<a target=\"_blank\" href=https://colab.research.google.com/notebooks/data_table.ipynb>data table notebook</a>'\n",
              "          + ' to learn more about interactive tables.';\n",
              "        element.innerHTML = '';\n",
              "        dataTable['output_type'] = 'display_data';\n",
              "        await google.colab.output.renderOutput(dataTable, element);\n",
              "        const docLink = document.createElement('div');\n",
              "        docLink.innerHTML = docLinkHtml;\n",
              "        element.appendChild(docLink);\n",
              "      }\n",
              "    </script>\n",
              "  </div>\n",
              "\n",
              "\n",
              "<div id=\"df-28e83a9c-ff04-4279-9f8d-78c2fed3218e\">\n",
              "  <button class=\"colab-df-quickchart\" onclick=\"quickchart('df-28e83a9c-ff04-4279-9f8d-78c2fed3218e')\"\n",
              "            title=\"Suggest charts\"\n",
              "            style=\"display:none;\">\n",
              "\n",
              "<svg xmlns=\"http://www.w3.org/2000/svg\" height=\"24px\"viewBox=\"0 0 24 24\"\n",
              "     width=\"24px\">\n",
              "    <g>\n",
              "        <path d=\"M19 3H5c-1.1 0-2 .9-2 2v14c0 1.1.9 2 2 2h14c1.1 0 2-.9 2-2V5c0-1.1-.9-2-2-2zM9 17H7v-7h2v7zm4 0h-2V7h2v10zm4 0h-2v-4h2v4z\"/>\n",
              "    </g>\n",
              "</svg>\n",
              "  </button>\n",
              "\n",
              "<style>\n",
              "  .colab-df-quickchart {\n",
              "      --bg-color: #E8F0FE;\n",
              "      --fill-color: #1967D2;\n",
              "      --hover-bg-color: #E2EBFA;\n",
              "      --hover-fill-color: #174EA6;\n",
              "      --disabled-fill-color: #AAA;\n",
              "      --disabled-bg-color: #DDD;\n",
              "  }\n",
              "\n",
              "  [theme=dark] .colab-df-quickchart {\n",
              "      --bg-color: #3B4455;\n",
              "      --fill-color: #D2E3FC;\n",
              "      --hover-bg-color: #434B5C;\n",
              "      --hover-fill-color: #FFFFFF;\n",
              "      --disabled-bg-color: #3B4455;\n",
              "      --disabled-fill-color: #666;\n",
              "  }\n",
              "\n",
              "  .colab-df-quickchart {\n",
              "    background-color: var(--bg-color);\n",
              "    border: none;\n",
              "    border-radius: 50%;\n",
              "    cursor: pointer;\n",
              "    display: none;\n",
              "    fill: var(--fill-color);\n",
              "    height: 32px;\n",
              "    padding: 0;\n",
              "    width: 32px;\n",
              "  }\n",
              "\n",
              "  .colab-df-quickchart:hover {\n",
              "    background-color: var(--hover-bg-color);\n",
              "    box-shadow: 0 1px 2px rgba(60, 64, 67, 0.3), 0 1px 3px 1px rgba(60, 64, 67, 0.15);\n",
              "    fill: var(--button-hover-fill-color);\n",
              "  }\n",
              "\n",
              "  .colab-df-quickchart-complete:disabled,\n",
              "  .colab-df-quickchart-complete:disabled:hover {\n",
              "    background-color: var(--disabled-bg-color);\n",
              "    fill: var(--disabled-fill-color);\n",
              "    box-shadow: none;\n",
              "  }\n",
              "\n",
              "  .colab-df-spinner {\n",
              "    border: 2px solid var(--fill-color);\n",
              "    border-color: transparent;\n",
              "    border-bottom-color: var(--fill-color);\n",
              "    animation:\n",
              "      spin 1s steps(1) infinite;\n",
              "  }\n",
              "\n",
              "  @keyframes spin {\n",
              "    0% {\n",
              "      border-color: transparent;\n",
              "      border-bottom-color: var(--fill-color);\n",
              "      border-left-color: var(--fill-color);\n",
              "    }\n",
              "    20% {\n",
              "      border-color: transparent;\n",
              "      border-left-color: var(--fill-color);\n",
              "      border-top-color: var(--fill-color);\n",
              "    }\n",
              "    30% {\n",
              "      border-color: transparent;\n",
              "      border-left-color: var(--fill-color);\n",
              "      border-top-color: var(--fill-color);\n",
              "      border-right-color: var(--fill-color);\n",
              "    }\n",
              "    40% {\n",
              "      border-color: transparent;\n",
              "      border-right-color: var(--fill-color);\n",
              "      border-top-color: var(--fill-color);\n",
              "    }\n",
              "    60% {\n",
              "      border-color: transparent;\n",
              "      border-right-color: var(--fill-color);\n",
              "    }\n",
              "    80% {\n",
              "      border-color: transparent;\n",
              "      border-right-color: var(--fill-color);\n",
              "      border-bottom-color: var(--fill-color);\n",
              "    }\n",
              "    90% {\n",
              "      border-color: transparent;\n",
              "      border-bottom-color: var(--fill-color);\n",
              "    }\n",
              "  }\n",
              "</style>\n",
              "\n",
              "  <script>\n",
              "    async function quickchart(key) {\n",
              "      const quickchartButtonEl =\n",
              "        document.querySelector('#' + key + ' button');\n",
              "      quickchartButtonEl.disabled = true;  // To prevent multiple clicks.\n",
              "      quickchartButtonEl.classList.add('colab-df-spinner');\n",
              "      try {\n",
              "        const charts = await google.colab.kernel.invokeFunction(\n",
              "            'suggestCharts', [key], {});\n",
              "      } catch (error) {\n",
              "        console.error('Error during call to suggestCharts:', error);\n",
              "      }\n",
              "      quickchartButtonEl.classList.remove('colab-df-spinner');\n",
              "      quickchartButtonEl.classList.add('colab-df-quickchart-complete');\n",
              "    }\n",
              "    (() => {\n",
              "      let quickchartButtonEl =\n",
              "        document.querySelector('#df-28e83a9c-ff04-4279-9f8d-78c2fed3218e button');\n",
              "      quickchartButtonEl.style.display =\n",
              "        google.colab.kernel.accessAllowed ? 'block' : 'none';\n",
              "    })();\n",
              "  </script>\n",
              "</div>\n",
              "\n",
              "  <div id=\"id_58d71318-2830-405d-b036-9f9e23edcad6\">\n",
              "    <style>\n",
              "      .colab-df-generate {\n",
              "        background-color: #E8F0FE;\n",
              "        border: none;\n",
              "        border-radius: 50%;\n",
              "        cursor: pointer;\n",
              "        display: none;\n",
              "        fill: #1967D2;\n",
              "        height: 32px;\n",
              "        padding: 0 0 0 0;\n",
              "        width: 32px;\n",
              "      }\n",
              "\n",
              "      .colab-df-generate:hover {\n",
              "        background-color: #E2EBFA;\n",
              "        box-shadow: 0px 1px 2px rgba(60, 64, 67, 0.3), 0px 1px 3px 1px rgba(60, 64, 67, 0.15);\n",
              "        fill: #174EA6;\n",
              "      }\n",
              "\n",
              "      [theme=dark] .colab-df-generate {\n",
              "        background-color: #3B4455;\n",
              "        fill: #D2E3FC;\n",
              "      }\n",
              "\n",
              "      [theme=dark] .colab-df-generate:hover {\n",
              "        background-color: #434B5C;\n",
              "        box-shadow: 0px 1px 3px 1px rgba(0, 0, 0, 0.15);\n",
              "        filter: drop-shadow(0px 1px 2px rgba(0, 0, 0, 0.3));\n",
              "        fill: #FFFFFF;\n",
              "      }\n",
              "    </style>\n",
              "    <button class=\"colab-df-generate\" onclick=\"generateWithVariable('all_scores_df')\"\n",
              "            title=\"Generate code using this dataframe.\"\n",
              "            style=\"display:none;\">\n",
              "\n",
              "  <svg xmlns=\"http://www.w3.org/2000/svg\" height=\"24px\"viewBox=\"0 0 24 24\"\n",
              "       width=\"24px\">\n",
              "    <path d=\"M7,19H8.4L18.45,9,17,7.55,7,17.6ZM5,21V16.75L18.45,3.32a2,2,0,0,1,2.83,0l1.4,1.43a1.91,1.91,0,0,1,.58,1.4,1.91,1.91,0,0,1-.58,1.4L9.25,21ZM18.45,9,17,7.55Zm-12,3A5.31,5.31,0,0,0,4.9,8.1,5.31,5.31,0,0,0,1,6.5,5.31,5.31,0,0,0,4.9,4.9,5.31,5.31,0,0,0,6.5,1,5.31,5.31,0,0,0,8.1,4.9,5.31,5.31,0,0,0,12,6.5,5.46,5.46,0,0,0,6.5,12Z\"/>\n",
              "  </svg>\n",
              "    </button>\n",
              "    <script>\n",
              "      (() => {\n",
              "      const buttonEl =\n",
              "        document.querySelector('#id_58d71318-2830-405d-b036-9f9e23edcad6 button.colab-df-generate');\n",
              "      buttonEl.style.display =\n",
              "        google.colab.kernel.accessAllowed ? 'block' : 'none';\n",
              "\n",
              "      buttonEl.onclick = () => {\n",
              "        google.colab.notebook.generateWithVariable('all_scores_df');\n",
              "      }\n",
              "      })();\n",
              "    </script>\n",
              "  </div>\n",
              "\n",
              "    </div>\n",
              "  </div>\n"
            ],
            "text/plain": [
              "                  Performance on the test set of T1  \\\n",
              "Weighted Average                           0.658852   \n",
              "treatment                                  0.648855   \n",
              "chronic_disease                            0.707113   \n",
              "cancer                                     0.622020   \n",
              "allergy_name                               0.125000   \n",
              "\n",
              "                  Performance on the test set of T1 and T2.  \\\n",
              "Weighted Average                                   0.686585   \n",
              "treatment                                          0.679441   \n",
              "chronic_disease                                    0.701322   \n",
              "cancer                                             0.661836   \n",
              "allergy_name                                       0.711111   \n",
              "\n",
              "                  Performance on the test set of T1, T2 and T3.  \\\n",
              "Weighted Average                                       0.704759   \n",
              "treatment                                              0.700938   \n",
              "chronic_disease                                        0.712551   \n",
              "cancer                                                 0.694678   \n",
              "allergy_name                                           0.700000   \n",
              "\n",
              "                  Performance on combined G1+G2+G3  \\\n",
              "Weighted Average                          0.766895   \n",
              "treatment                                 0.752536   \n",
              "chronic_disease                           0.795850   \n",
              "cancer                                    0.735783   \n",
              "allergy_name                              0.733871   \n",
              "\n",
              "                  Performance of base_trained model on combined G1+G2+G3  \n",
              "Weighted Average                                           0.720369       \n",
              "treatment                                                  0.718110       \n",
              "chronic_disease                                            0.740131       \n",
              "cancer                                                     0.675042       \n",
              "allergy_name                                               0.697778       "
            ]
          },
          "execution_count": 37,
          "metadata": {},
          "output_type": "execute_result"
        }
      ],
      "source": [
        "all_scores_df = get_all_scores([T1_results, T2_results, T3_results, combined_results, combined_results_full]).T\n",
        "all_scores_df.columns = [\"Performance on the test set of T1\",\n",
        "\"Performance on the test set of T1 and T2.\",\"Performance on the test set of T1, T2 and T3.\",\n",
        "\"Performance on combined G1+G2+G3\", \"Performance of base_trained model on combined G1+G2+G3\"]\n",
        "all_scores_df"
      ]
    },
    {
      "cell_type": "code",
      "execution_count": null,
      "metadata": {
        "id": "FlZCOrqjs0Tp"
      },
      "outputs": [],
      "source": [
        "all_scores_df.to_csv('/content/drive/MyDrive/Colab Notebooks/Clinic_Trail_NER/F1_Scores.csv')"
      ]
    },
    {
      "cell_type": "markdown",
      "metadata": {
        "id": "dRIrnrqVoEI2"
      },
      "source": [
        "### Model Links\n",
        "\n",
        "[T1 Model](https://huggingface.co/krishnapal2308/NER-Task1)\n",
        "\n",
        "[T2 Model](https://huggingface.co/krishnapal2308/NER-Task2)\n",
        "\n",
        "[T3 Model](https://huggingface.co/krishnapal2308/NER-Task3)\n",
        "\n",
        "[Combined Model](https://huggingface.co/krishnapal2308/NER-Combined)"
      ]
    },
    {
      "cell_type": "markdown",
      "metadata": {
        "id": "C1FcHoJx2fi8"
      },
      "source": [
        "# Future Work\n",
        "\n",
        "1. Explore more sophisticated continual learning techniques, such as Elastic Weight Consolidation (EWC).\n",
        "2. Implement adaptive sampling methods for memory replay, such as diversity-based sampling.\n",
        "3. Investigate the impact of different model architectures and pre-training approaches on continual learning performance.\n",
        "4. Extend the system to handle a wider range of medical entities and explore cross-domain transfer learning."
      ]
    },
    {
      "cell_type": "code",
      "execution_count": null,
      "metadata": {
        "id": "nFisRN9w2paX"
      },
      "outputs": [],
      "source": []
    }
  ],
  "metadata": {
    "colab": {
      "gpuType": "T4",
      "provenance": []
    },
    "kernelspec": {
      "display_name": "Python 3",
      "name": "python3"
    },
    "language_info": {
      "name": "python"
    },
    "widgets": {
      "application/vnd.jupyter.widget-state+json": {
        "04ace89b1ed1479882a6281da3e0e566": {
          "model_module": "@jupyter-widgets/controls",
          "model_module_version": "1.5.0",
          "model_name": "DescriptionStyleModel",
          "state": {
            "_model_module": "@jupyter-widgets/controls",
            "_model_module_version": "1.5.0",
            "_model_name": "DescriptionStyleModel",
            "_view_count": null,
            "_view_module": "@jupyter-widgets/base",
            "_view_module_version": "1.2.0",
            "_view_name": "StyleView",
            "description_width": ""
          }
        },
        "04c4b84eb9b84862b166acd3cb7ac9e2": {
          "model_module": "@jupyter-widgets/controls",
          "model_module_version": "1.5.0",
          "model_name": "DescriptionStyleModel",
          "state": {
            "_model_module": "@jupyter-widgets/controls",
            "_model_module_version": "1.5.0",
            "_model_name": "DescriptionStyleModel",
            "_view_count": null,
            "_view_module": "@jupyter-widgets/base",
            "_view_module_version": "1.2.0",
            "_view_name": "StyleView",
            "description_width": ""
          }
        },
        "0c90acbeefa24dd2b0693ab50a3c8a52": {
          "model_module": "@jupyter-widgets/controls",
          "model_module_version": "1.5.0",
          "model_name": "HTMLModel",
          "state": {
            "_dom_classes": [],
            "_model_module": "@jupyter-widgets/controls",
            "_model_module_version": "1.5.0",
            "_model_name": "HTMLModel",
            "_view_count": null,
            "_view_module": "@jupyter-widgets/controls",
            "_view_module_version": "1.5.0",
            "_view_name": "HTMLView",
            "description": "",
            "description_tooltip": null,
            "layout": "IPY_MODEL_4a0afb3c14a742b69e3ddb2cea8945e3",
            "placeholder": "​",
            "style": "IPY_MODEL_81e23eb7e5e94bbab0951f5c185f112d",
            "value": " 431M/431M [00:37&lt;00:00, 32.7MB/s]"
          }
        },
        "0d3ef630cdbb4ad2a634776c46d09799": {
          "model_module": "@jupyter-widgets/base",
          "model_module_version": "1.2.0",
          "model_name": "LayoutModel",
          "state": {
            "_model_module": "@jupyter-widgets/base",
            "_model_module_version": "1.2.0",
            "_model_name": "LayoutModel",
            "_view_count": null,
            "_view_module": "@jupyter-widgets/base",
            "_view_module_version": "1.2.0",
            "_view_name": "LayoutView",
            "align_content": null,
            "align_items": null,
            "align_self": null,
            "border": null,
            "bottom": null,
            "display": null,
            "flex": null,
            "flex_flow": null,
            "grid_area": null,
            "grid_auto_columns": null,
            "grid_auto_flow": null,
            "grid_auto_rows": null,
            "grid_column": null,
            "grid_gap": null,
            "grid_row": null,
            "grid_template_areas": null,
            "grid_template_columns": null,
            "grid_template_rows": null,
            "height": null,
            "justify_content": null,
            "justify_items": null,
            "left": null,
            "margin": null,
            "max_height": null,
            "max_width": null,
            "min_height": null,
            "min_width": null,
            "object_fit": null,
            "object_position": null,
            "order": null,
            "overflow": null,
            "overflow_x": null,
            "overflow_y": null,
            "padding": null,
            "right": null,
            "top": null,
            "visibility": null,
            "width": null
          }
        },
        "10e42e961e7742d5b4059b1a54ac0b41": {
          "model_module": "@jupyter-widgets/controls",
          "model_module_version": "1.5.0",
          "model_name": "FloatProgressModel",
          "state": {
            "_dom_classes": [],
            "_model_module": "@jupyter-widgets/controls",
            "_model_module_version": "1.5.0",
            "_model_name": "FloatProgressModel",
            "_view_count": null,
            "_view_module": "@jupyter-widgets/controls",
            "_view_module_version": "1.5.0",
            "_view_name": "ProgressView",
            "bar_style": "success",
            "description": "",
            "description_tooltip": null,
            "layout": "IPY_MODEL_c5a630502fcb425f8a22049256585484",
            "max": 435797,
            "min": 0,
            "orientation": "horizontal",
            "style": "IPY_MODEL_ac95eab0785f46e7bff2fe0a357d4aba",
            "value": 435797
          }
        },
        "13da6c2232864421ac5e95d8d2a193bd": {
          "model_module": "@jupyter-widgets/controls",
          "model_module_version": "1.5.0",
          "model_name": "HTMLModel",
          "state": {
            "_dom_classes": [],
            "_model_module": "@jupyter-widgets/controls",
            "_model_module_version": "1.5.0",
            "_model_name": "HTMLModel",
            "_view_count": null,
            "_view_module": "@jupyter-widgets/controls",
            "_view_module_version": "1.5.0",
            "_view_name": "HTMLView",
            "description": "",
            "description_tooltip": null,
            "layout": "IPY_MODEL_b5668dfa3d2342c790d7410fed1d8918",
            "placeholder": "​",
            "style": "IPY_MODEL_6c304084d94146ca85a6f8265e0edfba",
            "value": "tokenizer_config.json: 100%"
          }
        },
        "1631d9befaa5428caa71cf7c8ddfb18c": {
          "model_module": "@jupyter-widgets/controls",
          "model_module_version": "1.5.0",
          "model_name": "HTMLModel",
          "state": {
            "_dom_classes": [],
            "_model_module": "@jupyter-widgets/controls",
            "_model_module_version": "1.5.0",
            "_model_name": "HTMLModel",
            "_view_count": null,
            "_view_module": "@jupyter-widgets/controls",
            "_view_module_version": "1.5.0",
            "_view_name": "HTMLView",
            "description": "",
            "description_tooltip": null,
            "layout": "IPY_MODEL_61f03fae177c424ba31707c085b1abcf",
            "placeholder": "​",
            "style": "IPY_MODEL_19afe535c1f74355a62b91977025c572",
            "value": "tf_model.h5: 100%"
          }
        },
        "19afe535c1f74355a62b91977025c572": {
          "model_module": "@jupyter-widgets/controls",
          "model_module_version": "1.5.0",
          "model_name": "DescriptionStyleModel",
          "state": {
            "_model_module": "@jupyter-widgets/controls",
            "_model_module_version": "1.5.0",
            "_model_name": "DescriptionStyleModel",
            "_view_count": null,
            "_view_module": "@jupyter-widgets/base",
            "_view_module_version": "1.2.0",
            "_view_name": "StyleView",
            "description_width": ""
          }
        },
        "1bde5c8a227b4298bef6cf67fe22915c": {
          "model_module": "@jupyter-widgets/controls",
          "model_module_version": "1.5.0",
          "model_name": "FloatProgressModel",
          "state": {
            "_dom_classes": [],
            "_model_module": "@jupyter-widgets/controls",
            "_model_module_version": "1.5.0",
            "_model_name": "FloatProgressModel",
            "_view_count": null,
            "_view_module": "@jupyter-widgets/controls",
            "_view_module_version": "1.5.0",
            "_view_name": "ProgressView",
            "bar_style": "success",
            "description": "",
            "description_tooltip": null,
            "layout": "IPY_MODEL_a63514c93c324c4fb4c2546a3d082b86",
            "max": 570,
            "min": 0,
            "orientation": "horizontal",
            "style": "IPY_MODEL_cffc0b133c6e412e8b7f709a7d641406",
            "value": 570
          }
        },
        "1dd0ee11cb8e416c915188a1e37fe478": {
          "model_module": "@jupyter-widgets/controls",
          "model_module_version": "1.5.0",
          "model_name": "FloatProgressModel",
          "state": {
            "_dom_classes": [],
            "_model_module": "@jupyter-widgets/controls",
            "_model_module_version": "1.5.0",
            "_model_name": "FloatProgressModel",
            "_view_count": null,
            "_view_module": "@jupyter-widgets/controls",
            "_view_module_version": "1.5.0",
            "_view_name": "ProgressView",
            "bar_style": "success",
            "description": "",
            "description_tooltip": null,
            "layout": "IPY_MODEL_9626b105c1dc4d50a31e3e6c986184aa",
            "max": 49,
            "min": 0,
            "orientation": "horizontal",
            "style": "IPY_MODEL_55553a1eda2b4683a5b621d7fb5de01f",
            "value": 49
          }
        },
        "2e305e24a5ee447dbd79da95f2149b64": {
          "model_module": "@jupyter-widgets/base",
          "model_module_version": "1.2.0",
          "model_name": "LayoutModel",
          "state": {
            "_model_module": "@jupyter-widgets/base",
            "_model_module_version": "1.2.0",
            "_model_name": "LayoutModel",
            "_view_count": null,
            "_view_module": "@jupyter-widgets/base",
            "_view_module_version": "1.2.0",
            "_view_name": "LayoutView",
            "align_content": null,
            "align_items": null,
            "align_self": null,
            "border": null,
            "bottom": null,
            "display": null,
            "flex": null,
            "flex_flow": null,
            "grid_area": null,
            "grid_auto_columns": null,
            "grid_auto_flow": null,
            "grid_auto_rows": null,
            "grid_column": null,
            "grid_gap": null,
            "grid_row": null,
            "grid_template_areas": null,
            "grid_template_columns": null,
            "grid_template_rows": null,
            "height": null,
            "justify_content": null,
            "justify_items": null,
            "left": null,
            "margin": null,
            "max_height": null,
            "max_width": null,
            "min_height": null,
            "min_width": null,
            "object_fit": null,
            "object_position": null,
            "order": null,
            "overflow": null,
            "overflow_x": null,
            "overflow_y": null,
            "padding": null,
            "right": null,
            "top": null,
            "visibility": null,
            "width": null
          }
        },
        "32e81209ebd54b1c8cfacc012112c52d": {
          "model_module": "@jupyter-widgets/controls",
          "model_module_version": "1.5.0",
          "model_name": "HBoxModel",
          "state": {
            "_dom_classes": [],
            "_model_module": "@jupyter-widgets/controls",
            "_model_module_version": "1.5.0",
            "_model_name": "HBoxModel",
            "_view_count": null,
            "_view_module": "@jupyter-widgets/controls",
            "_view_module_version": "1.5.0",
            "_view_name": "HBoxView",
            "box_style": "",
            "children": [
              "IPY_MODEL_1631d9befaa5428caa71cf7c8ddfb18c",
              "IPY_MODEL_f2f675067875436094dfce15da437dc2",
              "IPY_MODEL_0c90acbeefa24dd2b0693ab50a3c8a52"
            ],
            "layout": "IPY_MODEL_f3fb18805df94ed6a24266b10e251629"
          }
        },
        "3307f9265b544c68868d57c296a96050": {
          "model_module": "@jupyter-widgets/controls",
          "model_module_version": "1.5.0",
          "model_name": "DescriptionStyleModel",
          "state": {
            "_model_module": "@jupyter-widgets/controls",
            "_model_module_version": "1.5.0",
            "_model_name": "DescriptionStyleModel",
            "_view_count": null,
            "_view_module": "@jupyter-widgets/base",
            "_view_module_version": "1.2.0",
            "_view_name": "StyleView",
            "description_width": ""
          }
        },
        "3aab92e580114b00b0b76e5673c33c3b": {
          "model_module": "@jupyter-widgets/controls",
          "model_module_version": "1.5.0",
          "model_name": "HBoxModel",
          "state": {
            "_dom_classes": [],
            "_model_module": "@jupyter-widgets/controls",
            "_model_module_version": "1.5.0",
            "_model_name": "HBoxModel",
            "_view_count": null,
            "_view_module": "@jupyter-widgets/controls",
            "_view_module_version": "1.5.0",
            "_view_name": "HBoxView",
            "box_style": "",
            "children": [
              "IPY_MODEL_53182050d9844c4b960df6d5c37a983c",
              "IPY_MODEL_f7d2ff4ab5d14d7e9967071e29e0d67d",
              "IPY_MODEL_bb973471f97f43769a17d7c7e31c0c35"
            ],
            "layout": "IPY_MODEL_665e85720e354c299e197fb75a8d647c"
          }
        },
        "40d9d299fe4e4ef9bae8116a60998af1": {
          "model_module": "@jupyter-widgets/controls",
          "model_module_version": "1.5.0",
          "model_name": "HBoxModel",
          "state": {
            "_dom_classes": [],
            "_model_module": "@jupyter-widgets/controls",
            "_model_module_version": "1.5.0",
            "_model_name": "HBoxModel",
            "_view_count": null,
            "_view_module": "@jupyter-widgets/controls",
            "_view_module_version": "1.5.0",
            "_view_name": "HBoxView",
            "box_style": "",
            "children": [
              "IPY_MODEL_7772426fcb1d4ad5a8637cc61f2eac3b",
              "IPY_MODEL_64cbc5af152747b19d54b3417fd47a5f",
              "IPY_MODEL_881c15e9f9914a02a5e1e1c8ba3061e7"
            ],
            "layout": "IPY_MODEL_ccc2d968286c407ca5ce09f7234ac3ae"
          }
        },
        "47294337f4b249c4aa14bee3ffc70e68": {
          "model_module": "@jupyter-widgets/controls",
          "model_module_version": "1.5.0",
          "model_name": "HTMLModel",
          "state": {
            "_dom_classes": [],
            "_model_module": "@jupyter-widgets/controls",
            "_model_module_version": "1.5.0",
            "_model_name": "HTMLModel",
            "_view_count": null,
            "_view_module": "@jupyter-widgets/controls",
            "_view_module_version": "1.5.0",
            "_view_name": "HTMLView",
            "description": "",
            "description_tooltip": null,
            "layout": "IPY_MODEL_c428f1c74220415aa2828c684897c029",
            "placeholder": "​",
            "style": "IPY_MODEL_489f079d7a2240af8da0f834c4ece6a7",
            "value": "config.json: 100%"
          }
        },
        "475fb21f82cc4292a200d2cad3510304": {
          "model_module": "@jupyter-widgets/controls",
          "model_module_version": "1.5.0",
          "model_name": "ProgressStyleModel",
          "state": {
            "_model_module": "@jupyter-widgets/controls",
            "_model_module_version": "1.5.0",
            "_model_name": "ProgressStyleModel",
            "_view_count": null,
            "_view_module": "@jupyter-widgets/base",
            "_view_module_version": "1.2.0",
            "_view_name": "StyleView",
            "bar_color": null,
            "description_width": ""
          }
        },
        "489f079d7a2240af8da0f834c4ece6a7": {
          "model_module": "@jupyter-widgets/controls",
          "model_module_version": "1.5.0",
          "model_name": "DescriptionStyleModel",
          "state": {
            "_model_module": "@jupyter-widgets/controls",
            "_model_module_version": "1.5.0",
            "_model_name": "DescriptionStyleModel",
            "_view_count": null,
            "_view_module": "@jupyter-widgets/base",
            "_view_module_version": "1.2.0",
            "_view_name": "StyleView",
            "description_width": ""
          }
        },
        "4a0afb3c14a742b69e3ddb2cea8945e3": {
          "model_module": "@jupyter-widgets/base",
          "model_module_version": "1.2.0",
          "model_name": "LayoutModel",
          "state": {
            "_model_module": "@jupyter-widgets/base",
            "_model_module_version": "1.2.0",
            "_model_name": "LayoutModel",
            "_view_count": null,
            "_view_module": "@jupyter-widgets/base",
            "_view_module_version": "1.2.0",
            "_view_name": "LayoutView",
            "align_content": null,
            "align_items": null,
            "align_self": null,
            "border": null,
            "bottom": null,
            "display": null,
            "flex": null,
            "flex_flow": null,
            "grid_area": null,
            "grid_auto_columns": null,
            "grid_auto_flow": null,
            "grid_auto_rows": null,
            "grid_column": null,
            "grid_gap": null,
            "grid_row": null,
            "grid_template_areas": null,
            "grid_template_columns": null,
            "grid_template_rows": null,
            "height": null,
            "justify_content": null,
            "justify_items": null,
            "left": null,
            "margin": null,
            "max_height": null,
            "max_width": null,
            "min_height": null,
            "min_width": null,
            "object_fit": null,
            "object_position": null,
            "order": null,
            "overflow": null,
            "overflow_x": null,
            "overflow_y": null,
            "padding": null,
            "right": null,
            "top": null,
            "visibility": null,
            "width": null
          }
        },
        "4c47112e32b74ee5825add29264b4c77": {
          "model_module": "@jupyter-widgets/controls",
          "model_module_version": "1.5.0",
          "model_name": "HBoxModel",
          "state": {
            "_dom_classes": [],
            "_model_module": "@jupyter-widgets/controls",
            "_model_module_version": "1.5.0",
            "_model_name": "HBoxModel",
            "_view_count": null,
            "_view_module": "@jupyter-widgets/controls",
            "_view_module_version": "1.5.0",
            "_view_name": "HBoxView",
            "box_style": "",
            "children": [
              "IPY_MODEL_b4cadc833c0140009ca35241a595bb31",
              "IPY_MODEL_cbb5105b8a59440ea4b2449b2d49bff4",
              "IPY_MODEL_95e1720fc79547f984f524ff0b788b77"
            ],
            "layout": "IPY_MODEL_ca573bef4ea04c108c399ac1950a1a76"
          }
        },
        "4d490d012726417ea8f8752a8e1701f6": {
          "model_module": "@jupyter-widgets/controls",
          "model_module_version": "1.5.0",
          "model_name": "DescriptionStyleModel",
          "state": {
            "_model_module": "@jupyter-widgets/controls",
            "_model_module_version": "1.5.0",
            "_model_name": "DescriptionStyleModel",
            "_view_count": null,
            "_view_module": "@jupyter-widgets/base",
            "_view_module_version": "1.2.0",
            "_view_name": "StyleView",
            "description_width": ""
          }
        },
        "5031bbd74be94accbd6d1ff54a74d1ff": {
          "model_module": "@jupyter-widgets/controls",
          "model_module_version": "1.5.0",
          "model_name": "ProgressStyleModel",
          "state": {
            "_model_module": "@jupyter-widgets/controls",
            "_model_module_version": "1.5.0",
            "_model_name": "ProgressStyleModel",
            "_view_count": null,
            "_view_module": "@jupyter-widgets/base",
            "_view_module_version": "1.2.0",
            "_view_name": "StyleView",
            "bar_color": null,
            "description_width": ""
          }
        },
        "521d53d3b9fa4183a7e0f523de7cc94d": {
          "model_module": "@jupyter-widgets/controls",
          "model_module_version": "1.5.0",
          "model_name": "FloatProgressModel",
          "state": {
            "_dom_classes": [],
            "_model_module": "@jupyter-widgets/controls",
            "_model_module_version": "1.5.0",
            "_model_name": "FloatProgressModel",
            "_view_count": null,
            "_view_module": "@jupyter-widgets/controls",
            "_view_module_version": "1.5.0",
            "_view_name": "ProgressView",
            "bar_style": "success",
            "description": "",
            "description_tooltip": null,
            "layout": "IPY_MODEL_59adff2078fa487e9bf337137397d62b",
            "max": 435755784,
            "min": 0,
            "orientation": "horizontal",
            "style": "IPY_MODEL_5031bbd74be94accbd6d1ff54a74d1ff",
            "value": 435755784
          }
        },
        "53182050d9844c4b960df6d5c37a983c": {
          "model_module": "@jupyter-widgets/controls",
          "model_module_version": "1.5.0",
          "model_name": "HTMLModel",
          "state": {
            "_dom_classes": [],
            "_model_module": "@jupyter-widgets/controls",
            "_model_module_version": "1.5.0",
            "_model_name": "HTMLModel",
            "_view_count": null,
            "_view_module": "@jupyter-widgets/controls",
            "_view_module_version": "1.5.0",
            "_view_name": "HTMLView",
            "description": "",
            "description_tooltip": null,
            "layout": "IPY_MODEL_72f973456fab4e98953a0e7391fd53be",
            "placeholder": "​",
            "style": "IPY_MODEL_3307f9265b544c68868d57c296a96050",
            "value": "vocab.txt: 100%"
          }
        },
        "55553a1eda2b4683a5b621d7fb5de01f": {
          "model_module": "@jupyter-widgets/controls",
          "model_module_version": "1.5.0",
          "model_name": "ProgressStyleModel",
          "state": {
            "_model_module": "@jupyter-widgets/controls",
            "_model_module_version": "1.5.0",
            "_model_name": "ProgressStyleModel",
            "_view_count": null,
            "_view_module": "@jupyter-widgets/base",
            "_view_module_version": "1.2.0",
            "_view_name": "StyleView",
            "bar_color": null,
            "description_width": ""
          }
        },
        "59adff2078fa487e9bf337137397d62b": {
          "model_module": "@jupyter-widgets/base",
          "model_module_version": "1.2.0",
          "model_name": "LayoutModel",
          "state": {
            "_model_module": "@jupyter-widgets/base",
            "_model_module_version": "1.2.0",
            "_model_name": "LayoutModel",
            "_view_count": null,
            "_view_module": "@jupyter-widgets/base",
            "_view_module_version": "1.2.0",
            "_view_name": "LayoutView",
            "align_content": null,
            "align_items": null,
            "align_self": null,
            "border": null,
            "bottom": null,
            "display": null,
            "flex": null,
            "flex_flow": null,
            "grid_area": null,
            "grid_auto_columns": null,
            "grid_auto_flow": null,
            "grid_auto_rows": null,
            "grid_column": null,
            "grid_gap": null,
            "grid_row": null,
            "grid_template_areas": null,
            "grid_template_columns": null,
            "grid_template_rows": null,
            "height": null,
            "justify_content": null,
            "justify_items": null,
            "left": null,
            "margin": null,
            "max_height": null,
            "max_width": null,
            "min_height": null,
            "min_width": null,
            "object_fit": null,
            "object_position": null,
            "order": null,
            "overflow": null,
            "overflow_x": null,
            "overflow_y": null,
            "padding": null,
            "right": null,
            "top": null,
            "visibility": null,
            "width": null
          }
        },
        "59de7224d75e4d83a9305aaecc9f64ad": {
          "model_module": "@jupyter-widgets/base",
          "model_module_version": "1.2.0",
          "model_name": "LayoutModel",
          "state": {
            "_model_module": "@jupyter-widgets/base",
            "_model_module_version": "1.2.0",
            "_model_name": "LayoutModel",
            "_view_count": null,
            "_view_module": "@jupyter-widgets/base",
            "_view_module_version": "1.2.0",
            "_view_name": "LayoutView",
            "align_content": null,
            "align_items": null,
            "align_self": null,
            "border": null,
            "bottom": null,
            "display": null,
            "flex": null,
            "flex_flow": null,
            "grid_area": null,
            "grid_auto_columns": null,
            "grid_auto_flow": null,
            "grid_auto_rows": null,
            "grid_column": null,
            "grid_gap": null,
            "grid_row": null,
            "grid_template_areas": null,
            "grid_template_columns": null,
            "grid_template_rows": null,
            "height": null,
            "justify_content": null,
            "justify_items": null,
            "left": null,
            "margin": null,
            "max_height": null,
            "max_width": null,
            "min_height": null,
            "min_width": null,
            "object_fit": null,
            "object_position": null,
            "order": null,
            "overflow": null,
            "overflow_x": null,
            "overflow_y": null,
            "padding": null,
            "right": null,
            "top": null,
            "visibility": null,
            "width": null
          }
        },
        "5c0bc820d9684642bc53caa6b79380b7": {
          "model_module": "@jupyter-widgets/base",
          "model_module_version": "1.2.0",
          "model_name": "LayoutModel",
          "state": {
            "_model_module": "@jupyter-widgets/base",
            "_model_module_version": "1.2.0",
            "_model_name": "LayoutModel",
            "_view_count": null,
            "_view_module": "@jupyter-widgets/base",
            "_view_module_version": "1.2.0",
            "_view_name": "LayoutView",
            "align_content": null,
            "align_items": null,
            "align_self": null,
            "border": null,
            "bottom": null,
            "display": null,
            "flex": null,
            "flex_flow": null,
            "grid_area": null,
            "grid_auto_columns": null,
            "grid_auto_flow": null,
            "grid_auto_rows": null,
            "grid_column": null,
            "grid_gap": null,
            "grid_row": null,
            "grid_template_areas": null,
            "grid_template_columns": null,
            "grid_template_rows": null,
            "height": null,
            "justify_content": null,
            "justify_items": null,
            "left": null,
            "margin": null,
            "max_height": null,
            "max_width": null,
            "min_height": null,
            "min_width": null,
            "object_fit": null,
            "object_position": null,
            "order": null,
            "overflow": null,
            "overflow_x": null,
            "overflow_y": null,
            "padding": null,
            "right": null,
            "top": null,
            "visibility": null,
            "width": null
          }
        },
        "5cb27e4f6bb046e086c571b2fe1f5607": {
          "model_module": "@jupyter-widgets/controls",
          "model_module_version": "1.5.0",
          "model_name": "HBoxModel",
          "state": {
            "_dom_classes": [],
            "_model_module": "@jupyter-widgets/controls",
            "_model_module_version": "1.5.0",
            "_model_name": "HBoxModel",
            "_view_count": null,
            "_view_module": "@jupyter-widgets/controls",
            "_view_module_version": "1.5.0",
            "_view_name": "HBoxView",
            "box_style": "",
            "children": [
              "IPY_MODEL_47294337f4b249c4aa14bee3ffc70e68",
              "IPY_MODEL_1bde5c8a227b4298bef6cf67fe22915c",
              "IPY_MODEL_fcfaae4e861a499a9d71fbdfbe893a3c"
            ],
            "layout": "IPY_MODEL_d4cb200a6a8340c7bee9583caa670938"
          }
        },
        "60318ba7d5364b20a806fada0773cc4e": {
          "model_module": "@jupyter-widgets/controls",
          "model_module_version": "1.5.0",
          "model_name": "DescriptionStyleModel",
          "state": {
            "_model_module": "@jupyter-widgets/controls",
            "_model_module_version": "1.5.0",
            "_model_name": "DescriptionStyleModel",
            "_view_count": null,
            "_view_module": "@jupyter-widgets/base",
            "_view_module_version": "1.2.0",
            "_view_name": "StyleView",
            "description_width": ""
          }
        },
        "61f03fae177c424ba31707c085b1abcf": {
          "model_module": "@jupyter-widgets/base",
          "model_module_version": "1.2.0",
          "model_name": "LayoutModel",
          "state": {
            "_model_module": "@jupyter-widgets/base",
            "_model_module_version": "1.2.0",
            "_model_name": "LayoutModel",
            "_view_count": null,
            "_view_module": "@jupyter-widgets/base",
            "_view_module_version": "1.2.0",
            "_view_name": "LayoutView",
            "align_content": null,
            "align_items": null,
            "align_self": null,
            "border": null,
            "bottom": null,
            "display": null,
            "flex": null,
            "flex_flow": null,
            "grid_area": null,
            "grid_auto_columns": null,
            "grid_auto_flow": null,
            "grid_auto_rows": null,
            "grid_column": null,
            "grid_gap": null,
            "grid_row": null,
            "grid_template_areas": null,
            "grid_template_columns": null,
            "grid_template_rows": null,
            "height": null,
            "justify_content": null,
            "justify_items": null,
            "left": null,
            "margin": null,
            "max_height": null,
            "max_width": null,
            "min_height": null,
            "min_width": null,
            "object_fit": null,
            "object_position": null,
            "order": null,
            "overflow": null,
            "overflow_x": null,
            "overflow_y": null,
            "padding": null,
            "right": null,
            "top": null,
            "visibility": null,
            "width": null
          }
        },
        "63682c451faf4636b894d51fc78d333a": {
          "model_module": "@jupyter-widgets/controls",
          "model_module_version": "1.5.0",
          "model_name": "HBoxModel",
          "state": {
            "_dom_classes": [],
            "_model_module": "@jupyter-widgets/controls",
            "_model_module_version": "1.5.0",
            "_model_name": "HBoxModel",
            "_view_count": null,
            "_view_module": "@jupyter-widgets/controls",
            "_view_module_version": "1.5.0",
            "_view_name": "HBoxView",
            "box_style": "",
            "children": [
              "IPY_MODEL_13da6c2232864421ac5e95d8d2a193bd",
              "IPY_MODEL_1dd0ee11cb8e416c915188a1e37fe478",
              "IPY_MODEL_ac82301dfd95491fa4040c2f02a10c33"
            ],
            "layout": "IPY_MODEL_f58a1ae0281540feb0270e2ffc035430"
          }
        },
        "64cbc5af152747b19d54b3417fd47a5f": {
          "model_module": "@jupyter-widgets/controls",
          "model_module_version": "1.5.0",
          "model_name": "FloatProgressModel",
          "state": {
            "_dom_classes": [],
            "_model_module": "@jupyter-widgets/controls",
            "_model_module_version": "1.5.0",
            "_model_name": "FloatProgressModel",
            "_view_count": null,
            "_view_module": "@jupyter-widgets/controls",
            "_view_module_version": "1.5.0",
            "_view_name": "ProgressView",
            "bar_style": "success",
            "description": "",
            "description_tooltip": null,
            "layout": "IPY_MODEL_59de7224d75e4d83a9305aaecc9f64ad",
            "max": 431192044,
            "min": 0,
            "orientation": "horizontal",
            "style": "IPY_MODEL_9732931b6d5947c79df885d66cf56d6e",
            "value": 431192044
          }
        },
        "665e85720e354c299e197fb75a8d647c": {
          "model_module": "@jupyter-widgets/base",
          "model_module_version": "1.2.0",
          "model_name": "LayoutModel",
          "state": {
            "_model_module": "@jupyter-widgets/base",
            "_model_module_version": "1.2.0",
            "_model_name": "LayoutModel",
            "_view_count": null,
            "_view_module": "@jupyter-widgets/base",
            "_view_module_version": "1.2.0",
            "_view_name": "LayoutView",
            "align_content": null,
            "align_items": null,
            "align_self": null,
            "border": null,
            "bottom": null,
            "display": null,
            "flex": null,
            "flex_flow": null,
            "grid_area": null,
            "grid_auto_columns": null,
            "grid_auto_flow": null,
            "grid_auto_rows": null,
            "grid_column": null,
            "grid_gap": null,
            "grid_row": null,
            "grid_template_areas": null,
            "grid_template_columns": null,
            "grid_template_rows": null,
            "height": null,
            "justify_content": null,
            "justify_items": null,
            "left": null,
            "margin": null,
            "max_height": null,
            "max_width": null,
            "min_height": null,
            "min_width": null,
            "object_fit": null,
            "object_position": null,
            "order": null,
            "overflow": null,
            "overflow_x": null,
            "overflow_y": null,
            "padding": null,
            "right": null,
            "top": null,
            "visibility": null,
            "width": null
          }
        },
        "6a349d50f70f44d08389b2977ac60e51": {
          "model_module": "@jupyter-widgets/base",
          "model_module_version": "1.2.0",
          "model_name": "LayoutModel",
          "state": {
            "_model_module": "@jupyter-widgets/base",
            "_model_module_version": "1.2.0",
            "_model_name": "LayoutModel",
            "_view_count": null,
            "_view_module": "@jupyter-widgets/base",
            "_view_module_version": "1.2.0",
            "_view_name": "LayoutView",
            "align_content": null,
            "align_items": null,
            "align_self": null,
            "border": null,
            "bottom": null,
            "display": null,
            "flex": null,
            "flex_flow": null,
            "grid_area": null,
            "grid_auto_columns": null,
            "grid_auto_flow": null,
            "grid_auto_rows": null,
            "grid_column": null,
            "grid_gap": null,
            "grid_row": null,
            "grid_template_areas": null,
            "grid_template_columns": null,
            "grid_template_rows": null,
            "height": null,
            "justify_content": null,
            "justify_items": null,
            "left": null,
            "margin": null,
            "max_height": null,
            "max_width": null,
            "min_height": null,
            "min_width": null,
            "object_fit": null,
            "object_position": null,
            "order": null,
            "overflow": null,
            "overflow_x": null,
            "overflow_y": null,
            "padding": null,
            "right": null,
            "top": null,
            "visibility": null,
            "width": null
          }
        },
        "6c304084d94146ca85a6f8265e0edfba": {
          "model_module": "@jupyter-widgets/controls",
          "model_module_version": "1.5.0",
          "model_name": "DescriptionStyleModel",
          "state": {
            "_model_module": "@jupyter-widgets/controls",
            "_model_module_version": "1.5.0",
            "_model_name": "DescriptionStyleModel",
            "_view_count": null,
            "_view_module": "@jupyter-widgets/base",
            "_view_module_version": "1.2.0",
            "_view_name": "StyleView",
            "description_width": ""
          }
        },
        "70e7982468bb41f493fca4b87a0594e1": {
          "model_module": "@jupyter-widgets/controls",
          "model_module_version": "1.5.0",
          "model_name": "HTMLModel",
          "state": {
            "_dom_classes": [],
            "_model_module": "@jupyter-widgets/controls",
            "_model_module_version": "1.5.0",
            "_model_name": "HTMLModel",
            "_view_count": null,
            "_view_module": "@jupyter-widgets/controls",
            "_view_module_version": "1.5.0",
            "_view_name": "HTMLView",
            "description": "",
            "description_tooltip": null,
            "layout": "IPY_MODEL_98c19d0b3475481da9727fd72049c20b",
            "placeholder": "​",
            "style": "IPY_MODEL_4d490d012726417ea8f8752a8e1701f6",
            "value": "tokenizer.json: 100%"
          }
        },
        "7178e924351f4dbc90b8e0a5ff74b70e": {
          "model_module": "@jupyter-widgets/base",
          "model_module_version": "1.2.0",
          "model_name": "LayoutModel",
          "state": {
            "_model_module": "@jupyter-widgets/base",
            "_model_module_version": "1.2.0",
            "_model_name": "LayoutModel",
            "_view_count": null,
            "_view_module": "@jupyter-widgets/base",
            "_view_module_version": "1.2.0",
            "_view_name": "LayoutView",
            "align_content": null,
            "align_items": null,
            "align_self": null,
            "border": null,
            "bottom": null,
            "display": null,
            "flex": null,
            "flex_flow": null,
            "grid_area": null,
            "grid_auto_columns": null,
            "grid_auto_flow": null,
            "grid_auto_rows": null,
            "grid_column": null,
            "grid_gap": null,
            "grid_row": null,
            "grid_template_areas": null,
            "grid_template_columns": null,
            "grid_template_rows": null,
            "height": null,
            "justify_content": null,
            "justify_items": null,
            "left": null,
            "margin": null,
            "max_height": null,
            "max_width": null,
            "min_height": null,
            "min_width": null,
            "object_fit": null,
            "object_position": null,
            "order": null,
            "overflow": null,
            "overflow_x": null,
            "overflow_y": null,
            "padding": null,
            "right": null,
            "top": null,
            "visibility": null,
            "width": null
          }
        },
        "72f973456fab4e98953a0e7391fd53be": {
          "model_module": "@jupyter-widgets/base",
          "model_module_version": "1.2.0",
          "model_name": "LayoutModel",
          "state": {
            "_model_module": "@jupyter-widgets/base",
            "_model_module_version": "1.2.0",
            "_model_name": "LayoutModel",
            "_view_count": null,
            "_view_module": "@jupyter-widgets/base",
            "_view_module_version": "1.2.0",
            "_view_name": "LayoutView",
            "align_content": null,
            "align_items": null,
            "align_self": null,
            "border": null,
            "bottom": null,
            "display": null,
            "flex": null,
            "flex_flow": null,
            "grid_area": null,
            "grid_auto_columns": null,
            "grid_auto_flow": null,
            "grid_auto_rows": null,
            "grid_column": null,
            "grid_gap": null,
            "grid_row": null,
            "grid_template_areas": null,
            "grid_template_columns": null,
            "grid_template_rows": null,
            "height": null,
            "justify_content": null,
            "justify_items": null,
            "left": null,
            "margin": null,
            "max_height": null,
            "max_width": null,
            "min_height": null,
            "min_width": null,
            "object_fit": null,
            "object_position": null,
            "order": null,
            "overflow": null,
            "overflow_x": null,
            "overflow_y": null,
            "padding": null,
            "right": null,
            "top": null,
            "visibility": null,
            "width": null
          }
        },
        "7566e0373f1b488a9bd000fe5d6dee1a": {
          "model_module": "@jupyter-widgets/controls",
          "model_module_version": "1.5.0",
          "model_name": "DescriptionStyleModel",
          "state": {
            "_model_module": "@jupyter-widgets/controls",
            "_model_module_version": "1.5.0",
            "_model_name": "DescriptionStyleModel",
            "_view_count": null,
            "_view_module": "@jupyter-widgets/base",
            "_view_module_version": "1.2.0",
            "_view_name": "StyleView",
            "description_width": ""
          }
        },
        "75b60ec3b8e24c1b95dfd48a62803a35": {
          "model_module": "@jupyter-widgets/controls",
          "model_module_version": "1.5.0",
          "model_name": "DescriptionStyleModel",
          "state": {
            "_model_module": "@jupyter-widgets/controls",
            "_model_module_version": "1.5.0",
            "_model_name": "DescriptionStyleModel",
            "_view_count": null,
            "_view_module": "@jupyter-widgets/base",
            "_view_module_version": "1.2.0",
            "_view_name": "StyleView",
            "description_width": ""
          }
        },
        "7772426fcb1d4ad5a8637cc61f2eac3b": {
          "model_module": "@jupyter-widgets/controls",
          "model_module_version": "1.5.0",
          "model_name": "HTMLModel",
          "state": {
            "_dom_classes": [],
            "_model_module": "@jupyter-widgets/controls",
            "_model_module_version": "1.5.0",
            "_model_name": "HTMLModel",
            "_view_count": null,
            "_view_module": "@jupyter-widgets/controls",
            "_view_module_version": "1.5.0",
            "_view_name": "HTMLView",
            "description": "",
            "description_tooltip": null,
            "layout": "IPY_MODEL_af78198bc5214a518d5755fdd4ea3cf4",
            "placeholder": "​",
            "style": "IPY_MODEL_abbedea8364145fe9f2b86751e7536c0",
            "value": "tf_model.h5: 100%"
          }
        },
        "7bd9de4b18784c2db9ea14359cd591bf": {
          "model_module": "@jupyter-widgets/controls",
          "model_module_version": "1.5.0",
          "model_name": "ProgressStyleModel",
          "state": {
            "_model_module": "@jupyter-widgets/controls",
            "_model_module_version": "1.5.0",
            "_model_name": "ProgressStyleModel",
            "_view_count": null,
            "_view_module": "@jupyter-widgets/base",
            "_view_module_version": "1.2.0",
            "_view_name": "StyleView",
            "bar_color": null,
            "description_width": ""
          }
        },
        "81e23eb7e5e94bbab0951f5c185f112d": {
          "model_module": "@jupyter-widgets/controls",
          "model_module_version": "1.5.0",
          "model_name": "DescriptionStyleModel",
          "state": {
            "_model_module": "@jupyter-widgets/controls",
            "_model_module_version": "1.5.0",
            "_model_name": "DescriptionStyleModel",
            "_view_count": null,
            "_view_module": "@jupyter-widgets/base",
            "_view_module_version": "1.2.0",
            "_view_name": "StyleView",
            "description_width": ""
          }
        },
        "881c15e9f9914a02a5e1e1c8ba3061e7": {
          "model_module": "@jupyter-widgets/controls",
          "model_module_version": "1.5.0",
          "model_name": "HTMLModel",
          "state": {
            "_dom_classes": [],
            "_model_module": "@jupyter-widgets/controls",
            "_model_module_version": "1.5.0",
            "_model_name": "HTMLModel",
            "_view_count": null,
            "_view_module": "@jupyter-widgets/controls",
            "_view_module_version": "1.5.0",
            "_view_name": "HTMLView",
            "description": "",
            "description_tooltip": null,
            "layout": "IPY_MODEL_2e305e24a5ee447dbd79da95f2149b64",
            "placeholder": "​",
            "style": "IPY_MODEL_9ae5a343dae8491694c6bac6bc52c2e4",
            "value": " 431M/431M [00:28&lt;00:00, 9.20MB/s]"
          }
        },
        "88c20fe12ae1461ebe63be75a7597d14": {
          "model_module": "@jupyter-widgets/base",
          "model_module_version": "1.2.0",
          "model_name": "LayoutModel",
          "state": {
            "_model_module": "@jupyter-widgets/base",
            "_model_module_version": "1.2.0",
            "_model_name": "LayoutModel",
            "_view_count": null,
            "_view_module": "@jupyter-widgets/base",
            "_view_module_version": "1.2.0",
            "_view_name": "LayoutView",
            "align_content": null,
            "align_items": null,
            "align_self": null,
            "border": null,
            "bottom": null,
            "display": null,
            "flex": null,
            "flex_flow": null,
            "grid_area": null,
            "grid_auto_columns": null,
            "grid_auto_flow": null,
            "grid_auto_rows": null,
            "grid_column": null,
            "grid_gap": null,
            "grid_row": null,
            "grid_template_areas": null,
            "grid_template_columns": null,
            "grid_template_rows": null,
            "height": null,
            "justify_content": null,
            "justify_items": null,
            "left": null,
            "margin": null,
            "max_height": null,
            "max_width": null,
            "min_height": null,
            "min_width": null,
            "object_fit": null,
            "object_position": null,
            "order": null,
            "overflow": null,
            "overflow_x": null,
            "overflow_y": null,
            "padding": null,
            "right": null,
            "top": null,
            "visibility": null,
            "width": null
          }
        },
        "89c2c45d573f4fb2903c7ae98785af31": {
          "model_module": "@jupyter-widgets/controls",
          "model_module_version": "1.5.0",
          "model_name": "HTMLModel",
          "state": {
            "_dom_classes": [],
            "_model_module": "@jupyter-widgets/controls",
            "_model_module_version": "1.5.0",
            "_model_name": "HTMLModel",
            "_view_count": null,
            "_view_module": "@jupyter-widgets/controls",
            "_view_module_version": "1.5.0",
            "_view_name": "HTMLView",
            "description": "",
            "description_tooltip": null,
            "layout": "IPY_MODEL_0d3ef630cdbb4ad2a634776c46d09799",
            "placeholder": "​",
            "style": "IPY_MODEL_04c4b84eb9b84862b166acd3cb7ac9e2",
            "value": " 431M/431M [00:36&lt;00:00, 24.1MB/s]"
          }
        },
        "8db087aafb0140e2a427f5cce9c6a56e": {
          "model_module": "@jupyter-widgets/controls",
          "model_module_version": "1.5.0",
          "model_name": "HTMLModel",
          "state": {
            "_dom_classes": [],
            "_model_module": "@jupyter-widgets/controls",
            "_model_module_version": "1.5.0",
            "_model_name": "HTMLModel",
            "_view_count": null,
            "_view_module": "@jupyter-widgets/controls",
            "_view_module_version": "1.5.0",
            "_view_name": "HTMLView",
            "description": "",
            "description_tooltip": null,
            "layout": "IPY_MODEL_d8da2915828c45daa3975fdb9bb405b6",
            "placeholder": "​",
            "style": "IPY_MODEL_60318ba7d5364b20a806fada0773cc4e",
            "value": " 436M/436M [00:03&lt;00:00, 134MB/s]"
          }
        },
        "95e1720fc79547f984f524ff0b788b77": {
          "model_module": "@jupyter-widgets/controls",
          "model_module_version": "1.5.0",
          "model_name": "HTMLModel",
          "state": {
            "_dom_classes": [],
            "_model_module": "@jupyter-widgets/controls",
            "_model_module_version": "1.5.0",
            "_model_name": "HTMLModel",
            "_view_count": null,
            "_view_module": "@jupyter-widgets/controls",
            "_view_module_version": "1.5.0",
            "_view_name": "HTMLView",
            "description": "",
            "description_tooltip": null,
            "layout": "IPY_MODEL_e7c865f0d8e347aa872f9b42d85b7ca6",
            "placeholder": "​",
            "style": "IPY_MODEL_9c9c9c8953e04acabf6f8e47014fc52f",
            "value": " 431M/431M [00:42&lt;00:00, 18.3MB/s]"
          }
        },
        "9626b105c1dc4d50a31e3e6c986184aa": {
          "model_module": "@jupyter-widgets/base",
          "model_module_version": "1.2.0",
          "model_name": "LayoutModel",
          "state": {
            "_model_module": "@jupyter-widgets/base",
            "_model_module_version": "1.2.0",
            "_model_name": "LayoutModel",
            "_view_count": null,
            "_view_module": "@jupyter-widgets/base",
            "_view_module_version": "1.2.0",
            "_view_name": "LayoutView",
            "align_content": null,
            "align_items": null,
            "align_self": null,
            "border": null,
            "bottom": null,
            "display": null,
            "flex": null,
            "flex_flow": null,
            "grid_area": null,
            "grid_auto_columns": null,
            "grid_auto_flow": null,
            "grid_auto_rows": null,
            "grid_column": null,
            "grid_gap": null,
            "grid_row": null,
            "grid_template_areas": null,
            "grid_template_columns": null,
            "grid_template_rows": null,
            "height": null,
            "justify_content": null,
            "justify_items": null,
            "left": null,
            "margin": null,
            "max_height": null,
            "max_width": null,
            "min_height": null,
            "min_width": null,
            "object_fit": null,
            "object_position": null,
            "order": null,
            "overflow": null,
            "overflow_x": null,
            "overflow_y": null,
            "padding": null,
            "right": null,
            "top": null,
            "visibility": null,
            "width": null
          }
        },
        "9732931b6d5947c79df885d66cf56d6e": {
          "model_module": "@jupyter-widgets/controls",
          "model_module_version": "1.5.0",
          "model_name": "ProgressStyleModel",
          "state": {
            "_model_module": "@jupyter-widgets/controls",
            "_model_module_version": "1.5.0",
            "_model_name": "ProgressStyleModel",
            "_view_count": null,
            "_view_module": "@jupyter-widgets/base",
            "_view_module_version": "1.2.0",
            "_view_name": "StyleView",
            "bar_color": null,
            "description_width": ""
          }
        },
        "98c19d0b3475481da9727fd72049c20b": {
          "model_module": "@jupyter-widgets/base",
          "model_module_version": "1.2.0",
          "model_name": "LayoutModel",
          "state": {
            "_model_module": "@jupyter-widgets/base",
            "_model_module_version": "1.2.0",
            "_model_name": "LayoutModel",
            "_view_count": null,
            "_view_module": "@jupyter-widgets/base",
            "_view_module_version": "1.2.0",
            "_view_name": "LayoutView",
            "align_content": null,
            "align_items": null,
            "align_self": null,
            "border": null,
            "bottom": null,
            "display": null,
            "flex": null,
            "flex_flow": null,
            "grid_area": null,
            "grid_auto_columns": null,
            "grid_auto_flow": null,
            "grid_auto_rows": null,
            "grid_column": null,
            "grid_gap": null,
            "grid_row": null,
            "grid_template_areas": null,
            "grid_template_columns": null,
            "grid_template_rows": null,
            "height": null,
            "justify_content": null,
            "justify_items": null,
            "left": null,
            "margin": null,
            "max_height": null,
            "max_width": null,
            "min_height": null,
            "min_width": null,
            "object_fit": null,
            "object_position": null,
            "order": null,
            "overflow": null,
            "overflow_x": null,
            "overflow_y": null,
            "padding": null,
            "right": null,
            "top": null,
            "visibility": null,
            "width": null
          }
        },
        "9ae5a343dae8491694c6bac6bc52c2e4": {
          "model_module": "@jupyter-widgets/controls",
          "model_module_version": "1.5.0",
          "model_name": "DescriptionStyleModel",
          "state": {
            "_model_module": "@jupyter-widgets/controls",
            "_model_module_version": "1.5.0",
            "_model_name": "DescriptionStyleModel",
            "_view_count": null,
            "_view_module": "@jupyter-widgets/base",
            "_view_module_version": "1.2.0",
            "_view_name": "StyleView",
            "description_width": ""
          }
        },
        "9c9c9c8953e04acabf6f8e47014fc52f": {
          "model_module": "@jupyter-widgets/controls",
          "model_module_version": "1.5.0",
          "model_name": "DescriptionStyleModel",
          "state": {
            "_model_module": "@jupyter-widgets/controls",
            "_model_module_version": "1.5.0",
            "_model_name": "DescriptionStyleModel",
            "_view_count": null,
            "_view_module": "@jupyter-widgets/base",
            "_view_module_version": "1.2.0",
            "_view_name": "StyleView",
            "description_width": ""
          }
        },
        "9dc2c69ab8c84ff58a5772b78e43c728": {
          "model_module": "@jupyter-widgets/controls",
          "model_module_version": "1.5.0",
          "model_name": "HBoxModel",
          "state": {
            "_dom_classes": [],
            "_model_module": "@jupyter-widgets/controls",
            "_model_module_version": "1.5.0",
            "_model_name": "HBoxModel",
            "_view_count": null,
            "_view_module": "@jupyter-widgets/controls",
            "_view_module_version": "1.5.0",
            "_view_name": "HBoxView",
            "box_style": "",
            "children": [
              "IPY_MODEL_70e7982468bb41f493fca4b87a0594e1",
              "IPY_MODEL_10e42e961e7742d5b4059b1a54ac0b41",
              "IPY_MODEL_cc850b2f7be14267935247f5924c4b7c"
            ],
            "layout": "IPY_MODEL_c796402f256b45baada7fea4dafe8b97"
          }
        },
        "a108a10cf8e749a7821d0e2f1ffd61cb": {
          "model_module": "@jupyter-widgets/controls",
          "model_module_version": "1.5.0",
          "model_name": "HTMLModel",
          "state": {
            "_dom_classes": [],
            "_model_module": "@jupyter-widgets/controls",
            "_model_module_version": "1.5.0",
            "_model_name": "HTMLModel",
            "_view_count": null,
            "_view_module": "@jupyter-widgets/controls",
            "_view_module_version": "1.5.0",
            "_view_name": "HTMLView",
            "description": "",
            "description_tooltip": null,
            "layout": "IPY_MODEL_6a349d50f70f44d08389b2977ac60e51",
            "placeholder": "​",
            "style": "IPY_MODEL_75b60ec3b8e24c1b95dfd48a62803a35",
            "value": "model.safetensors: 100%"
          }
        },
        "a28e2d526bb041eb84ce9afbeff5fba5": {
          "model_module": "@jupyter-widgets/controls",
          "model_module_version": "1.5.0",
          "model_name": "FloatProgressModel",
          "state": {
            "_dom_classes": [],
            "_model_module": "@jupyter-widgets/controls",
            "_model_module_version": "1.5.0",
            "_model_name": "FloatProgressModel",
            "_view_count": null,
            "_view_module": "@jupyter-widgets/controls",
            "_view_module_version": "1.5.0",
            "_view_name": "ProgressView",
            "bar_style": "success",
            "description": "",
            "description_tooltip": null,
            "layout": "IPY_MODEL_88c20fe12ae1461ebe63be75a7597d14",
            "max": 431179756,
            "min": 0,
            "orientation": "horizontal",
            "style": "IPY_MODEL_7bd9de4b18784c2db9ea14359cd591bf",
            "value": 431179756
          }
        },
        "a291db9089b6498db7e07edde2442437": {
          "model_module": "@jupyter-widgets/base",
          "model_module_version": "1.2.0",
          "model_name": "LayoutModel",
          "state": {
            "_model_module": "@jupyter-widgets/base",
            "_model_module_version": "1.2.0",
            "_model_name": "LayoutModel",
            "_view_count": null,
            "_view_module": "@jupyter-widgets/base",
            "_view_module_version": "1.2.0",
            "_view_name": "LayoutView",
            "align_content": null,
            "align_items": null,
            "align_self": null,
            "border": null,
            "bottom": null,
            "display": null,
            "flex": null,
            "flex_flow": null,
            "grid_area": null,
            "grid_auto_columns": null,
            "grid_auto_flow": null,
            "grid_auto_rows": null,
            "grid_column": null,
            "grid_gap": null,
            "grid_row": null,
            "grid_template_areas": null,
            "grid_template_columns": null,
            "grid_template_rows": null,
            "height": null,
            "justify_content": null,
            "justify_items": null,
            "left": null,
            "margin": null,
            "max_height": null,
            "max_width": null,
            "min_height": null,
            "min_width": null,
            "object_fit": null,
            "object_position": null,
            "order": null,
            "overflow": null,
            "overflow_x": null,
            "overflow_y": null,
            "padding": null,
            "right": null,
            "top": null,
            "visibility": null,
            "width": null
          }
        },
        "a390bba01bc340aca7b98cffea8022b5": {
          "model_module": "@jupyter-widgets/base",
          "model_module_version": "1.2.0",
          "model_name": "LayoutModel",
          "state": {
            "_model_module": "@jupyter-widgets/base",
            "_model_module_version": "1.2.0",
            "_model_name": "LayoutModel",
            "_view_count": null,
            "_view_module": "@jupyter-widgets/base",
            "_view_module_version": "1.2.0",
            "_view_name": "LayoutView",
            "align_content": null,
            "align_items": null,
            "align_self": null,
            "border": null,
            "bottom": null,
            "display": null,
            "flex": null,
            "flex_flow": null,
            "grid_area": null,
            "grid_auto_columns": null,
            "grid_auto_flow": null,
            "grid_auto_rows": null,
            "grid_column": null,
            "grid_gap": null,
            "grid_row": null,
            "grid_template_areas": null,
            "grid_template_columns": null,
            "grid_template_rows": null,
            "height": null,
            "justify_content": null,
            "justify_items": null,
            "left": null,
            "margin": null,
            "max_height": null,
            "max_width": null,
            "min_height": null,
            "min_width": null,
            "object_fit": null,
            "object_position": null,
            "order": null,
            "overflow": null,
            "overflow_x": null,
            "overflow_y": null,
            "padding": null,
            "right": null,
            "top": null,
            "visibility": null,
            "width": null
          }
        },
        "a63514c93c324c4fb4c2546a3d082b86": {
          "model_module": "@jupyter-widgets/base",
          "model_module_version": "1.2.0",
          "model_name": "LayoutModel",
          "state": {
            "_model_module": "@jupyter-widgets/base",
            "_model_module_version": "1.2.0",
            "_model_name": "LayoutModel",
            "_view_count": null,
            "_view_module": "@jupyter-widgets/base",
            "_view_module_version": "1.2.0",
            "_view_name": "LayoutView",
            "align_content": null,
            "align_items": null,
            "align_self": null,
            "border": null,
            "bottom": null,
            "display": null,
            "flex": null,
            "flex_flow": null,
            "grid_area": null,
            "grid_auto_columns": null,
            "grid_auto_flow": null,
            "grid_auto_rows": null,
            "grid_column": null,
            "grid_gap": null,
            "grid_row": null,
            "grid_template_areas": null,
            "grid_template_columns": null,
            "grid_template_rows": null,
            "height": null,
            "justify_content": null,
            "justify_items": null,
            "left": null,
            "margin": null,
            "max_height": null,
            "max_width": null,
            "min_height": null,
            "min_width": null,
            "object_fit": null,
            "object_position": null,
            "order": null,
            "overflow": null,
            "overflow_x": null,
            "overflow_y": null,
            "padding": null,
            "right": null,
            "top": null,
            "visibility": null,
            "width": null
          }
        },
        "abbedea8364145fe9f2b86751e7536c0": {
          "model_module": "@jupyter-widgets/controls",
          "model_module_version": "1.5.0",
          "model_name": "DescriptionStyleModel",
          "state": {
            "_model_module": "@jupyter-widgets/controls",
            "_model_module_version": "1.5.0",
            "_model_name": "DescriptionStyleModel",
            "_view_count": null,
            "_view_module": "@jupyter-widgets/base",
            "_view_module_version": "1.2.0",
            "_view_name": "StyleView",
            "description_width": ""
          }
        },
        "ac82301dfd95491fa4040c2f02a10c33": {
          "model_module": "@jupyter-widgets/controls",
          "model_module_version": "1.5.0",
          "model_name": "HTMLModel",
          "state": {
            "_dom_classes": [],
            "_model_module": "@jupyter-widgets/controls",
            "_model_module_version": "1.5.0",
            "_model_name": "HTMLModel",
            "_view_count": null,
            "_view_module": "@jupyter-widgets/controls",
            "_view_module_version": "1.5.0",
            "_view_name": "HTMLView",
            "description": "",
            "description_tooltip": null,
            "layout": "IPY_MODEL_cb579f42b1484d629e76ac625bd8b973",
            "placeholder": "​",
            "style": "IPY_MODEL_ebca00df79bc42ec8b71cbc48c88279e",
            "value": " 49.0/49.0 [00:00&lt;00:00, 3.02kB/s]"
          }
        },
        "ac95eab0785f46e7bff2fe0a357d4aba": {
          "model_module": "@jupyter-widgets/controls",
          "model_module_version": "1.5.0",
          "model_name": "ProgressStyleModel",
          "state": {
            "_model_module": "@jupyter-widgets/controls",
            "_model_module_version": "1.5.0",
            "_model_name": "ProgressStyleModel",
            "_view_count": null,
            "_view_module": "@jupyter-widgets/base",
            "_view_module_version": "1.2.0",
            "_view_name": "StyleView",
            "bar_color": null,
            "description_width": ""
          }
        },
        "af78198bc5214a518d5755fdd4ea3cf4": {
          "model_module": "@jupyter-widgets/base",
          "model_module_version": "1.2.0",
          "model_name": "LayoutModel",
          "state": {
            "_model_module": "@jupyter-widgets/base",
            "_model_module_version": "1.2.0",
            "_model_name": "LayoutModel",
            "_view_count": null,
            "_view_module": "@jupyter-widgets/base",
            "_view_module_version": "1.2.0",
            "_view_name": "LayoutView",
            "align_content": null,
            "align_items": null,
            "align_self": null,
            "border": null,
            "bottom": null,
            "display": null,
            "flex": null,
            "flex_flow": null,
            "grid_area": null,
            "grid_auto_columns": null,
            "grid_auto_flow": null,
            "grid_auto_rows": null,
            "grid_column": null,
            "grid_gap": null,
            "grid_row": null,
            "grid_template_areas": null,
            "grid_template_columns": null,
            "grid_template_rows": null,
            "height": null,
            "justify_content": null,
            "justify_items": null,
            "left": null,
            "margin": null,
            "max_height": null,
            "max_width": null,
            "min_height": null,
            "min_width": null,
            "object_fit": null,
            "object_position": null,
            "order": null,
            "overflow": null,
            "overflow_x": null,
            "overflow_y": null,
            "padding": null,
            "right": null,
            "top": null,
            "visibility": null,
            "width": null
          }
        },
        "afe33f5196ea4e938d2d843cf5e0a966": {
          "model_module": "@jupyter-widgets/controls",
          "model_module_version": "1.5.0",
          "model_name": "DescriptionStyleModel",
          "state": {
            "_model_module": "@jupyter-widgets/controls",
            "_model_module_version": "1.5.0",
            "_model_name": "DescriptionStyleModel",
            "_view_count": null,
            "_view_module": "@jupyter-widgets/base",
            "_view_module_version": "1.2.0",
            "_view_name": "StyleView",
            "description_width": ""
          }
        },
        "b2eeca3cfb324ff888b25b7b22f027d8": {
          "model_module": "@jupyter-widgets/controls",
          "model_module_version": "1.5.0",
          "model_name": "DescriptionStyleModel",
          "state": {
            "_model_module": "@jupyter-widgets/controls",
            "_model_module_version": "1.5.0",
            "_model_name": "DescriptionStyleModel",
            "_view_count": null,
            "_view_module": "@jupyter-widgets/base",
            "_view_module_version": "1.2.0",
            "_view_name": "StyleView",
            "description_width": ""
          }
        },
        "b4cadc833c0140009ca35241a595bb31": {
          "model_module": "@jupyter-widgets/controls",
          "model_module_version": "1.5.0",
          "model_name": "HTMLModel",
          "state": {
            "_dom_classes": [],
            "_model_module": "@jupyter-widgets/controls",
            "_model_module_version": "1.5.0",
            "_model_name": "HTMLModel",
            "_view_count": null,
            "_view_module": "@jupyter-widgets/controls",
            "_view_module_version": "1.5.0",
            "_view_name": "HTMLView",
            "description": "",
            "description_tooltip": null,
            "layout": "IPY_MODEL_d7a3132cf1904e818cfd6b516c236419",
            "placeholder": "​",
            "style": "IPY_MODEL_04ace89b1ed1479882a6281da3e0e566",
            "value": "tf_model.h5: 100%"
          }
        },
        "b5668dfa3d2342c790d7410fed1d8918": {
          "model_module": "@jupyter-widgets/base",
          "model_module_version": "1.2.0",
          "model_name": "LayoutModel",
          "state": {
            "_model_module": "@jupyter-widgets/base",
            "_model_module_version": "1.2.0",
            "_model_name": "LayoutModel",
            "_view_count": null,
            "_view_module": "@jupyter-widgets/base",
            "_view_module_version": "1.2.0",
            "_view_name": "LayoutView",
            "align_content": null,
            "align_items": null,
            "align_self": null,
            "border": null,
            "bottom": null,
            "display": null,
            "flex": null,
            "flex_flow": null,
            "grid_area": null,
            "grid_auto_columns": null,
            "grid_auto_flow": null,
            "grid_auto_rows": null,
            "grid_column": null,
            "grid_gap": null,
            "grid_row": null,
            "grid_template_areas": null,
            "grid_template_columns": null,
            "grid_template_rows": null,
            "height": null,
            "justify_content": null,
            "justify_items": null,
            "left": null,
            "margin": null,
            "max_height": null,
            "max_width": null,
            "min_height": null,
            "min_width": null,
            "object_fit": null,
            "object_position": null,
            "order": null,
            "overflow": null,
            "overflow_x": null,
            "overflow_y": null,
            "padding": null,
            "right": null,
            "top": null,
            "visibility": null,
            "width": null
          }
        },
        "bb973471f97f43769a17d7c7e31c0c35": {
          "model_module": "@jupyter-widgets/controls",
          "model_module_version": "1.5.0",
          "model_name": "HTMLModel",
          "state": {
            "_dom_classes": [],
            "_model_module": "@jupyter-widgets/controls",
            "_model_module_version": "1.5.0",
            "_model_name": "HTMLModel",
            "_view_count": null,
            "_view_module": "@jupyter-widgets/controls",
            "_view_module_version": "1.5.0",
            "_view_name": "HTMLView",
            "description": "",
            "description_tooltip": null,
            "layout": "IPY_MODEL_fa6a8eac53594f5a9a8cb228367c036b",
            "placeholder": "​",
            "style": "IPY_MODEL_b2eeca3cfb324ff888b25b7b22f027d8",
            "value": " 213k/213k [00:00&lt;00:00, 9.11MB/s]"
          }
        },
        "c428f1c74220415aa2828c684897c029": {
          "model_module": "@jupyter-widgets/base",
          "model_module_version": "1.2.0",
          "model_name": "LayoutModel",
          "state": {
            "_model_module": "@jupyter-widgets/base",
            "_model_module_version": "1.2.0",
            "_model_name": "LayoutModel",
            "_view_count": null,
            "_view_module": "@jupyter-widgets/base",
            "_view_module_version": "1.2.0",
            "_view_name": "LayoutView",
            "align_content": null,
            "align_items": null,
            "align_self": null,
            "border": null,
            "bottom": null,
            "display": null,
            "flex": null,
            "flex_flow": null,
            "grid_area": null,
            "grid_auto_columns": null,
            "grid_auto_flow": null,
            "grid_auto_rows": null,
            "grid_column": null,
            "grid_gap": null,
            "grid_row": null,
            "grid_template_areas": null,
            "grid_template_columns": null,
            "grid_template_rows": null,
            "height": null,
            "justify_content": null,
            "justify_items": null,
            "left": null,
            "margin": null,
            "max_height": null,
            "max_width": null,
            "min_height": null,
            "min_width": null,
            "object_fit": null,
            "object_position": null,
            "order": null,
            "overflow": null,
            "overflow_x": null,
            "overflow_y": null,
            "padding": null,
            "right": null,
            "top": null,
            "visibility": null,
            "width": null
          }
        },
        "c46a751af83945318955e687911e2e14": {
          "model_module": "@jupyter-widgets/controls",
          "model_module_version": "1.5.0",
          "model_name": "ProgressStyleModel",
          "state": {
            "_model_module": "@jupyter-widgets/controls",
            "_model_module_version": "1.5.0",
            "_model_name": "ProgressStyleModel",
            "_view_count": null,
            "_view_module": "@jupyter-widgets/base",
            "_view_module_version": "1.2.0",
            "_view_name": "StyleView",
            "bar_color": null,
            "description_width": ""
          }
        },
        "c5a630502fcb425f8a22049256585484": {
          "model_module": "@jupyter-widgets/base",
          "model_module_version": "1.2.0",
          "model_name": "LayoutModel",
          "state": {
            "_model_module": "@jupyter-widgets/base",
            "_model_module_version": "1.2.0",
            "_model_name": "LayoutModel",
            "_view_count": null,
            "_view_module": "@jupyter-widgets/base",
            "_view_module_version": "1.2.0",
            "_view_name": "LayoutView",
            "align_content": null,
            "align_items": null,
            "align_self": null,
            "border": null,
            "bottom": null,
            "display": null,
            "flex": null,
            "flex_flow": null,
            "grid_area": null,
            "grid_auto_columns": null,
            "grid_auto_flow": null,
            "grid_auto_rows": null,
            "grid_column": null,
            "grid_gap": null,
            "grid_row": null,
            "grid_template_areas": null,
            "grid_template_columns": null,
            "grid_template_rows": null,
            "height": null,
            "justify_content": null,
            "justify_items": null,
            "left": null,
            "margin": null,
            "max_height": null,
            "max_width": null,
            "min_height": null,
            "min_width": null,
            "object_fit": null,
            "object_position": null,
            "order": null,
            "overflow": null,
            "overflow_x": null,
            "overflow_y": null,
            "padding": null,
            "right": null,
            "top": null,
            "visibility": null,
            "width": null
          }
        },
        "c796402f256b45baada7fea4dafe8b97": {
          "model_module": "@jupyter-widgets/base",
          "model_module_version": "1.2.0",
          "model_name": "LayoutModel",
          "state": {
            "_model_module": "@jupyter-widgets/base",
            "_model_module_version": "1.2.0",
            "_model_name": "LayoutModel",
            "_view_count": null,
            "_view_module": "@jupyter-widgets/base",
            "_view_module_version": "1.2.0",
            "_view_name": "LayoutView",
            "align_content": null,
            "align_items": null,
            "align_self": null,
            "border": null,
            "bottom": null,
            "display": null,
            "flex": null,
            "flex_flow": null,
            "grid_area": null,
            "grid_auto_columns": null,
            "grid_auto_flow": null,
            "grid_auto_rows": null,
            "grid_column": null,
            "grid_gap": null,
            "grid_row": null,
            "grid_template_areas": null,
            "grid_template_columns": null,
            "grid_template_rows": null,
            "height": null,
            "justify_content": null,
            "justify_items": null,
            "left": null,
            "margin": null,
            "max_height": null,
            "max_width": null,
            "min_height": null,
            "min_width": null,
            "object_fit": null,
            "object_position": null,
            "order": null,
            "overflow": null,
            "overflow_x": null,
            "overflow_y": null,
            "padding": null,
            "right": null,
            "top": null,
            "visibility": null,
            "width": null
          }
        },
        "c867487db3b54a2995a63f4e4f0c6f37": {
          "model_module": "@jupyter-widgets/base",
          "model_module_version": "1.2.0",
          "model_name": "LayoutModel",
          "state": {
            "_model_module": "@jupyter-widgets/base",
            "_model_module_version": "1.2.0",
            "_model_name": "LayoutModel",
            "_view_count": null,
            "_view_module": "@jupyter-widgets/base",
            "_view_module_version": "1.2.0",
            "_view_name": "LayoutView",
            "align_content": null,
            "align_items": null,
            "align_self": null,
            "border": null,
            "bottom": null,
            "display": null,
            "flex": null,
            "flex_flow": null,
            "grid_area": null,
            "grid_auto_columns": null,
            "grid_auto_flow": null,
            "grid_auto_rows": null,
            "grid_column": null,
            "grid_gap": null,
            "grid_row": null,
            "grid_template_areas": null,
            "grid_template_columns": null,
            "grid_template_rows": null,
            "height": null,
            "justify_content": null,
            "justify_items": null,
            "left": null,
            "margin": null,
            "max_height": null,
            "max_width": null,
            "min_height": null,
            "min_width": null,
            "object_fit": null,
            "object_position": null,
            "order": null,
            "overflow": null,
            "overflow_x": null,
            "overflow_y": null,
            "padding": null,
            "right": null,
            "top": null,
            "visibility": null,
            "width": null
          }
        },
        "ca573bef4ea04c108c399ac1950a1a76": {
          "model_module": "@jupyter-widgets/base",
          "model_module_version": "1.2.0",
          "model_name": "LayoutModel",
          "state": {
            "_model_module": "@jupyter-widgets/base",
            "_model_module_version": "1.2.0",
            "_model_name": "LayoutModel",
            "_view_count": null,
            "_view_module": "@jupyter-widgets/base",
            "_view_module_version": "1.2.0",
            "_view_name": "LayoutView",
            "align_content": null,
            "align_items": null,
            "align_self": null,
            "border": null,
            "bottom": null,
            "display": null,
            "flex": null,
            "flex_flow": null,
            "grid_area": null,
            "grid_auto_columns": null,
            "grid_auto_flow": null,
            "grid_auto_rows": null,
            "grid_column": null,
            "grid_gap": null,
            "grid_row": null,
            "grid_template_areas": null,
            "grid_template_columns": null,
            "grid_template_rows": null,
            "height": null,
            "justify_content": null,
            "justify_items": null,
            "left": null,
            "margin": null,
            "max_height": null,
            "max_width": null,
            "min_height": null,
            "min_width": null,
            "object_fit": null,
            "object_position": null,
            "order": null,
            "overflow": null,
            "overflow_x": null,
            "overflow_y": null,
            "padding": null,
            "right": null,
            "top": null,
            "visibility": null,
            "width": null
          }
        },
        "cb579f42b1484d629e76ac625bd8b973": {
          "model_module": "@jupyter-widgets/base",
          "model_module_version": "1.2.0",
          "model_name": "LayoutModel",
          "state": {
            "_model_module": "@jupyter-widgets/base",
            "_model_module_version": "1.2.0",
            "_model_name": "LayoutModel",
            "_view_count": null,
            "_view_module": "@jupyter-widgets/base",
            "_view_module_version": "1.2.0",
            "_view_name": "LayoutView",
            "align_content": null,
            "align_items": null,
            "align_self": null,
            "border": null,
            "bottom": null,
            "display": null,
            "flex": null,
            "flex_flow": null,
            "grid_area": null,
            "grid_auto_columns": null,
            "grid_auto_flow": null,
            "grid_auto_rows": null,
            "grid_column": null,
            "grid_gap": null,
            "grid_row": null,
            "grid_template_areas": null,
            "grid_template_columns": null,
            "grid_template_rows": null,
            "height": null,
            "justify_content": null,
            "justify_items": null,
            "left": null,
            "margin": null,
            "max_height": null,
            "max_width": null,
            "min_height": null,
            "min_width": null,
            "object_fit": null,
            "object_position": null,
            "order": null,
            "overflow": null,
            "overflow_x": null,
            "overflow_y": null,
            "padding": null,
            "right": null,
            "top": null,
            "visibility": null,
            "width": null
          }
        },
        "cbb5105b8a59440ea4b2449b2d49bff4": {
          "model_module": "@jupyter-widgets/controls",
          "model_module_version": "1.5.0",
          "model_name": "FloatProgressModel",
          "state": {
            "_dom_classes": [],
            "_model_module": "@jupyter-widgets/controls",
            "_model_module_version": "1.5.0",
            "_model_name": "FloatProgressModel",
            "_view_count": null,
            "_view_module": "@jupyter-widgets/controls",
            "_view_module_version": "1.5.0",
            "_view_name": "ProgressView",
            "bar_style": "success",
            "description": "",
            "description_tooltip": null,
            "layout": "IPY_MODEL_7178e924351f4dbc90b8e0a5ff74b70e",
            "max": 431179756,
            "min": 0,
            "orientation": "horizontal",
            "style": "IPY_MODEL_475fb21f82cc4292a200d2cad3510304",
            "value": 431179756
          }
        },
        "cc361e12b7cd45c0aaeacefba7a8abb2": {
          "model_module": "@jupyter-widgets/base",
          "model_module_version": "1.2.0",
          "model_name": "LayoutModel",
          "state": {
            "_model_module": "@jupyter-widgets/base",
            "_model_module_version": "1.2.0",
            "_model_name": "LayoutModel",
            "_view_count": null,
            "_view_module": "@jupyter-widgets/base",
            "_view_module_version": "1.2.0",
            "_view_name": "LayoutView",
            "align_content": null,
            "align_items": null,
            "align_self": null,
            "border": null,
            "bottom": null,
            "display": null,
            "flex": null,
            "flex_flow": null,
            "grid_area": null,
            "grid_auto_columns": null,
            "grid_auto_flow": null,
            "grid_auto_rows": null,
            "grid_column": null,
            "grid_gap": null,
            "grid_row": null,
            "grid_template_areas": null,
            "grid_template_columns": null,
            "grid_template_rows": null,
            "height": null,
            "justify_content": null,
            "justify_items": null,
            "left": null,
            "margin": null,
            "max_height": null,
            "max_width": null,
            "min_height": null,
            "min_width": null,
            "object_fit": null,
            "object_position": null,
            "order": null,
            "overflow": null,
            "overflow_x": null,
            "overflow_y": null,
            "padding": null,
            "right": null,
            "top": null,
            "visibility": null,
            "width": null
          }
        },
        "cc850b2f7be14267935247f5924c4b7c": {
          "model_module": "@jupyter-widgets/controls",
          "model_module_version": "1.5.0",
          "model_name": "HTMLModel",
          "state": {
            "_dom_classes": [],
            "_model_module": "@jupyter-widgets/controls",
            "_model_module_version": "1.5.0",
            "_model_name": "HTMLModel",
            "_view_count": null,
            "_view_module": "@jupyter-widgets/controls",
            "_view_module_version": "1.5.0",
            "_view_name": "HTMLView",
            "description": "",
            "description_tooltip": null,
            "layout": "IPY_MODEL_cc361e12b7cd45c0aaeacefba7a8abb2",
            "placeholder": "​",
            "style": "IPY_MODEL_7566e0373f1b488a9bd000fe5d6dee1a",
            "value": " 436k/436k [00:00&lt;00:00, 13.2MB/s]"
          }
        },
        "ccc2d968286c407ca5ce09f7234ac3ae": {
          "model_module": "@jupyter-widgets/base",
          "model_module_version": "1.2.0",
          "model_name": "LayoutModel",
          "state": {
            "_model_module": "@jupyter-widgets/base",
            "_model_module_version": "1.2.0",
            "_model_name": "LayoutModel",
            "_view_count": null,
            "_view_module": "@jupyter-widgets/base",
            "_view_module_version": "1.2.0",
            "_view_name": "LayoutView",
            "align_content": null,
            "align_items": null,
            "align_self": null,
            "border": null,
            "bottom": null,
            "display": null,
            "flex": null,
            "flex_flow": null,
            "grid_area": null,
            "grid_auto_columns": null,
            "grid_auto_flow": null,
            "grid_auto_rows": null,
            "grid_column": null,
            "grid_gap": null,
            "grid_row": null,
            "grid_template_areas": null,
            "grid_template_columns": null,
            "grid_template_rows": null,
            "height": null,
            "justify_content": null,
            "justify_items": null,
            "left": null,
            "margin": null,
            "max_height": null,
            "max_width": null,
            "min_height": null,
            "min_width": null,
            "object_fit": null,
            "object_position": null,
            "order": null,
            "overflow": null,
            "overflow_x": null,
            "overflow_y": null,
            "padding": null,
            "right": null,
            "top": null,
            "visibility": null,
            "width": null
          }
        },
        "cffc0b133c6e412e8b7f709a7d641406": {
          "model_module": "@jupyter-widgets/controls",
          "model_module_version": "1.5.0",
          "model_name": "ProgressStyleModel",
          "state": {
            "_model_module": "@jupyter-widgets/controls",
            "_model_module_version": "1.5.0",
            "_model_name": "ProgressStyleModel",
            "_view_count": null,
            "_view_module": "@jupyter-widgets/base",
            "_view_module_version": "1.2.0",
            "_view_name": "StyleView",
            "bar_color": null,
            "description_width": ""
          }
        },
        "d0fea3782ffc4d07bfe104fb31bd9f13": {
          "model_module": "@jupyter-widgets/controls",
          "model_module_version": "1.5.0",
          "model_name": "HTMLModel",
          "state": {
            "_dom_classes": [],
            "_model_module": "@jupyter-widgets/controls",
            "_model_module_version": "1.5.0",
            "_model_name": "HTMLModel",
            "_view_count": null,
            "_view_module": "@jupyter-widgets/controls",
            "_view_module_version": "1.5.0",
            "_view_name": "HTMLView",
            "description": "",
            "description_tooltip": null,
            "layout": "IPY_MODEL_f44df7d5894f4126964ea84af564a465",
            "placeholder": "​",
            "style": "IPY_MODEL_e315c16b51e141929524f9ec7b05a97f",
            "value": "tf_model.h5: 100%"
          }
        },
        "d4cb200a6a8340c7bee9583caa670938": {
          "model_module": "@jupyter-widgets/base",
          "model_module_version": "1.2.0",
          "model_name": "LayoutModel",
          "state": {
            "_model_module": "@jupyter-widgets/base",
            "_model_module_version": "1.2.0",
            "_model_name": "LayoutModel",
            "_view_count": null,
            "_view_module": "@jupyter-widgets/base",
            "_view_module_version": "1.2.0",
            "_view_name": "LayoutView",
            "align_content": null,
            "align_items": null,
            "align_self": null,
            "border": null,
            "bottom": null,
            "display": null,
            "flex": null,
            "flex_flow": null,
            "grid_area": null,
            "grid_auto_columns": null,
            "grid_auto_flow": null,
            "grid_auto_rows": null,
            "grid_column": null,
            "grid_gap": null,
            "grid_row": null,
            "grid_template_areas": null,
            "grid_template_columns": null,
            "grid_template_rows": null,
            "height": null,
            "justify_content": null,
            "justify_items": null,
            "left": null,
            "margin": null,
            "max_height": null,
            "max_width": null,
            "min_height": null,
            "min_width": null,
            "object_fit": null,
            "object_position": null,
            "order": null,
            "overflow": null,
            "overflow_x": null,
            "overflow_y": null,
            "padding": null,
            "right": null,
            "top": null,
            "visibility": null,
            "width": null
          }
        },
        "d7a3132cf1904e818cfd6b516c236419": {
          "model_module": "@jupyter-widgets/base",
          "model_module_version": "1.2.0",
          "model_name": "LayoutModel",
          "state": {
            "_model_module": "@jupyter-widgets/base",
            "_model_module_version": "1.2.0",
            "_model_name": "LayoutModel",
            "_view_count": null,
            "_view_module": "@jupyter-widgets/base",
            "_view_module_version": "1.2.0",
            "_view_name": "LayoutView",
            "align_content": null,
            "align_items": null,
            "align_self": null,
            "border": null,
            "bottom": null,
            "display": null,
            "flex": null,
            "flex_flow": null,
            "grid_area": null,
            "grid_auto_columns": null,
            "grid_auto_flow": null,
            "grid_auto_rows": null,
            "grid_column": null,
            "grid_gap": null,
            "grid_row": null,
            "grid_template_areas": null,
            "grid_template_columns": null,
            "grid_template_rows": null,
            "height": null,
            "justify_content": null,
            "justify_items": null,
            "left": null,
            "margin": null,
            "max_height": null,
            "max_width": null,
            "min_height": null,
            "min_width": null,
            "object_fit": null,
            "object_position": null,
            "order": null,
            "overflow": null,
            "overflow_x": null,
            "overflow_y": null,
            "padding": null,
            "right": null,
            "top": null,
            "visibility": null,
            "width": null
          }
        },
        "d8da2915828c45daa3975fdb9bb405b6": {
          "model_module": "@jupyter-widgets/base",
          "model_module_version": "1.2.0",
          "model_name": "LayoutModel",
          "state": {
            "_model_module": "@jupyter-widgets/base",
            "_model_module_version": "1.2.0",
            "_model_name": "LayoutModel",
            "_view_count": null,
            "_view_module": "@jupyter-widgets/base",
            "_view_module_version": "1.2.0",
            "_view_name": "LayoutView",
            "align_content": null,
            "align_items": null,
            "align_self": null,
            "border": null,
            "bottom": null,
            "display": null,
            "flex": null,
            "flex_flow": null,
            "grid_area": null,
            "grid_auto_columns": null,
            "grid_auto_flow": null,
            "grid_auto_rows": null,
            "grid_column": null,
            "grid_gap": null,
            "grid_row": null,
            "grid_template_areas": null,
            "grid_template_columns": null,
            "grid_template_rows": null,
            "height": null,
            "justify_content": null,
            "justify_items": null,
            "left": null,
            "margin": null,
            "max_height": null,
            "max_width": null,
            "min_height": null,
            "min_width": null,
            "object_fit": null,
            "object_position": null,
            "order": null,
            "overflow": null,
            "overflow_x": null,
            "overflow_y": null,
            "padding": null,
            "right": null,
            "top": null,
            "visibility": null,
            "width": null
          }
        },
        "ddd2d51041704e4496c9757356675de1": {
          "model_module": "@jupyter-widgets/controls",
          "model_module_version": "1.5.0",
          "model_name": "ProgressStyleModel",
          "state": {
            "_model_module": "@jupyter-widgets/controls",
            "_model_module_version": "1.5.0",
            "_model_name": "ProgressStyleModel",
            "_view_count": null,
            "_view_module": "@jupyter-widgets/base",
            "_view_module_version": "1.2.0",
            "_view_name": "StyleView",
            "bar_color": null,
            "description_width": ""
          }
        },
        "dea0f998b67245fcbcaddb7da0a574fb": {
          "model_module": "@jupyter-widgets/base",
          "model_module_version": "1.2.0",
          "model_name": "LayoutModel",
          "state": {
            "_model_module": "@jupyter-widgets/base",
            "_model_module_version": "1.2.0",
            "_model_name": "LayoutModel",
            "_view_count": null,
            "_view_module": "@jupyter-widgets/base",
            "_view_module_version": "1.2.0",
            "_view_name": "LayoutView",
            "align_content": null,
            "align_items": null,
            "align_self": null,
            "border": null,
            "bottom": null,
            "display": null,
            "flex": null,
            "flex_flow": null,
            "grid_area": null,
            "grid_auto_columns": null,
            "grid_auto_flow": null,
            "grid_auto_rows": null,
            "grid_column": null,
            "grid_gap": null,
            "grid_row": null,
            "grid_template_areas": null,
            "grid_template_columns": null,
            "grid_template_rows": null,
            "height": null,
            "justify_content": null,
            "justify_items": null,
            "left": null,
            "margin": null,
            "max_height": null,
            "max_width": null,
            "min_height": null,
            "min_width": null,
            "object_fit": null,
            "object_position": null,
            "order": null,
            "overflow": null,
            "overflow_x": null,
            "overflow_y": null,
            "padding": null,
            "right": null,
            "top": null,
            "visibility": null,
            "width": null
          }
        },
        "e315c16b51e141929524f9ec7b05a97f": {
          "model_module": "@jupyter-widgets/controls",
          "model_module_version": "1.5.0",
          "model_name": "DescriptionStyleModel",
          "state": {
            "_model_module": "@jupyter-widgets/controls",
            "_model_module_version": "1.5.0",
            "_model_name": "DescriptionStyleModel",
            "_view_count": null,
            "_view_module": "@jupyter-widgets/base",
            "_view_module_version": "1.2.0",
            "_view_name": "StyleView",
            "description_width": ""
          }
        },
        "e7c865f0d8e347aa872f9b42d85b7ca6": {
          "model_module": "@jupyter-widgets/base",
          "model_module_version": "1.2.0",
          "model_name": "LayoutModel",
          "state": {
            "_model_module": "@jupyter-widgets/base",
            "_model_module_version": "1.2.0",
            "_model_name": "LayoutModel",
            "_view_count": null,
            "_view_module": "@jupyter-widgets/base",
            "_view_module_version": "1.2.0",
            "_view_name": "LayoutView",
            "align_content": null,
            "align_items": null,
            "align_self": null,
            "border": null,
            "bottom": null,
            "display": null,
            "flex": null,
            "flex_flow": null,
            "grid_area": null,
            "grid_auto_columns": null,
            "grid_auto_flow": null,
            "grid_auto_rows": null,
            "grid_column": null,
            "grid_gap": null,
            "grid_row": null,
            "grid_template_areas": null,
            "grid_template_columns": null,
            "grid_template_rows": null,
            "height": null,
            "justify_content": null,
            "justify_items": null,
            "left": null,
            "margin": null,
            "max_height": null,
            "max_width": null,
            "min_height": null,
            "min_width": null,
            "object_fit": null,
            "object_position": null,
            "order": null,
            "overflow": null,
            "overflow_x": null,
            "overflow_y": null,
            "padding": null,
            "right": null,
            "top": null,
            "visibility": null,
            "width": null
          }
        },
        "ebca00df79bc42ec8b71cbc48c88279e": {
          "model_module": "@jupyter-widgets/controls",
          "model_module_version": "1.5.0",
          "model_name": "DescriptionStyleModel",
          "state": {
            "_model_module": "@jupyter-widgets/controls",
            "_model_module_version": "1.5.0",
            "_model_name": "DescriptionStyleModel",
            "_view_count": null,
            "_view_module": "@jupyter-widgets/base",
            "_view_module_version": "1.2.0",
            "_view_name": "StyleView",
            "description_width": ""
          }
        },
        "f22876a9bb8d4a5eb7d8b8af54ee865a": {
          "model_module": "@jupyter-widgets/controls",
          "model_module_version": "1.5.0",
          "model_name": "HBoxModel",
          "state": {
            "_dom_classes": [],
            "_model_module": "@jupyter-widgets/controls",
            "_model_module_version": "1.5.0",
            "_model_name": "HBoxModel",
            "_view_count": null,
            "_view_module": "@jupyter-widgets/controls",
            "_view_module_version": "1.5.0",
            "_view_name": "HBoxView",
            "box_style": "",
            "children": [
              "IPY_MODEL_a108a10cf8e749a7821d0e2f1ffd61cb",
              "IPY_MODEL_521d53d3b9fa4183a7e0f523de7cc94d",
              "IPY_MODEL_8db087aafb0140e2a427f5cce9c6a56e"
            ],
            "layout": "IPY_MODEL_a390bba01bc340aca7b98cffea8022b5"
          }
        },
        "f2f675067875436094dfce15da437dc2": {
          "model_module": "@jupyter-widgets/controls",
          "model_module_version": "1.5.0",
          "model_name": "FloatProgressModel",
          "state": {
            "_dom_classes": [],
            "_model_module": "@jupyter-widgets/controls",
            "_model_module_version": "1.5.0",
            "_model_name": "FloatProgressModel",
            "_view_count": null,
            "_view_module": "@jupyter-widgets/controls",
            "_view_module_version": "1.5.0",
            "_view_name": "ProgressView",
            "bar_style": "success",
            "description": "",
            "description_tooltip": null,
            "layout": "IPY_MODEL_a291db9089b6498db7e07edde2442437",
            "max": 431179756,
            "min": 0,
            "orientation": "horizontal",
            "style": "IPY_MODEL_c46a751af83945318955e687911e2e14",
            "value": 431179756
          }
        },
        "f3fb18805df94ed6a24266b10e251629": {
          "model_module": "@jupyter-widgets/base",
          "model_module_version": "1.2.0",
          "model_name": "LayoutModel",
          "state": {
            "_model_module": "@jupyter-widgets/base",
            "_model_module_version": "1.2.0",
            "_model_name": "LayoutModel",
            "_view_count": null,
            "_view_module": "@jupyter-widgets/base",
            "_view_module_version": "1.2.0",
            "_view_name": "LayoutView",
            "align_content": null,
            "align_items": null,
            "align_self": null,
            "border": null,
            "bottom": null,
            "display": null,
            "flex": null,
            "flex_flow": null,
            "grid_area": null,
            "grid_auto_columns": null,
            "grid_auto_flow": null,
            "grid_auto_rows": null,
            "grid_column": null,
            "grid_gap": null,
            "grid_row": null,
            "grid_template_areas": null,
            "grid_template_columns": null,
            "grid_template_rows": null,
            "height": null,
            "justify_content": null,
            "justify_items": null,
            "left": null,
            "margin": null,
            "max_height": null,
            "max_width": null,
            "min_height": null,
            "min_width": null,
            "object_fit": null,
            "object_position": null,
            "order": null,
            "overflow": null,
            "overflow_x": null,
            "overflow_y": null,
            "padding": null,
            "right": null,
            "top": null,
            "visibility": null,
            "width": null
          }
        },
        "f44df7d5894f4126964ea84af564a465": {
          "model_module": "@jupyter-widgets/base",
          "model_module_version": "1.2.0",
          "model_name": "LayoutModel",
          "state": {
            "_model_module": "@jupyter-widgets/base",
            "_model_module_version": "1.2.0",
            "_model_name": "LayoutModel",
            "_view_count": null,
            "_view_module": "@jupyter-widgets/base",
            "_view_module_version": "1.2.0",
            "_view_name": "LayoutView",
            "align_content": null,
            "align_items": null,
            "align_self": null,
            "border": null,
            "bottom": null,
            "display": null,
            "flex": null,
            "flex_flow": null,
            "grid_area": null,
            "grid_auto_columns": null,
            "grid_auto_flow": null,
            "grid_auto_rows": null,
            "grid_column": null,
            "grid_gap": null,
            "grid_row": null,
            "grid_template_areas": null,
            "grid_template_columns": null,
            "grid_template_rows": null,
            "height": null,
            "justify_content": null,
            "justify_items": null,
            "left": null,
            "margin": null,
            "max_height": null,
            "max_width": null,
            "min_height": null,
            "min_width": null,
            "object_fit": null,
            "object_position": null,
            "order": null,
            "overflow": null,
            "overflow_x": null,
            "overflow_y": null,
            "padding": null,
            "right": null,
            "top": null,
            "visibility": null,
            "width": null
          }
        },
        "f58a1ae0281540feb0270e2ffc035430": {
          "model_module": "@jupyter-widgets/base",
          "model_module_version": "1.2.0",
          "model_name": "LayoutModel",
          "state": {
            "_model_module": "@jupyter-widgets/base",
            "_model_module_version": "1.2.0",
            "_model_name": "LayoutModel",
            "_view_count": null,
            "_view_module": "@jupyter-widgets/base",
            "_view_module_version": "1.2.0",
            "_view_name": "LayoutView",
            "align_content": null,
            "align_items": null,
            "align_self": null,
            "border": null,
            "bottom": null,
            "display": null,
            "flex": null,
            "flex_flow": null,
            "grid_area": null,
            "grid_auto_columns": null,
            "grid_auto_flow": null,
            "grid_auto_rows": null,
            "grid_column": null,
            "grid_gap": null,
            "grid_row": null,
            "grid_template_areas": null,
            "grid_template_columns": null,
            "grid_template_rows": null,
            "height": null,
            "justify_content": null,
            "justify_items": null,
            "left": null,
            "margin": null,
            "max_height": null,
            "max_width": null,
            "min_height": null,
            "min_width": null,
            "object_fit": null,
            "object_position": null,
            "order": null,
            "overflow": null,
            "overflow_x": null,
            "overflow_y": null,
            "padding": null,
            "right": null,
            "top": null,
            "visibility": null,
            "width": null
          }
        },
        "f6dd4f95ee6942ff91b5ca57d93fac9b": {
          "model_module": "@jupyter-widgets/controls",
          "model_module_version": "1.5.0",
          "model_name": "HBoxModel",
          "state": {
            "_dom_classes": [],
            "_model_module": "@jupyter-widgets/controls",
            "_model_module_version": "1.5.0",
            "_model_name": "HBoxModel",
            "_view_count": null,
            "_view_module": "@jupyter-widgets/controls",
            "_view_module_version": "1.5.0",
            "_view_name": "HBoxView",
            "box_style": "",
            "children": [
              "IPY_MODEL_d0fea3782ffc4d07bfe104fb31bd9f13",
              "IPY_MODEL_a28e2d526bb041eb84ce9afbeff5fba5",
              "IPY_MODEL_89c2c45d573f4fb2903c7ae98785af31"
            ],
            "layout": "IPY_MODEL_c867487db3b54a2995a63f4e4f0c6f37"
          }
        },
        "f7d2ff4ab5d14d7e9967071e29e0d67d": {
          "model_module": "@jupyter-widgets/controls",
          "model_module_version": "1.5.0",
          "model_name": "FloatProgressModel",
          "state": {
            "_dom_classes": [],
            "_model_module": "@jupyter-widgets/controls",
            "_model_module_version": "1.5.0",
            "_model_name": "FloatProgressModel",
            "_view_count": null,
            "_view_module": "@jupyter-widgets/controls",
            "_view_module_version": "1.5.0",
            "_view_name": "ProgressView",
            "bar_style": "success",
            "description": "",
            "description_tooltip": null,
            "layout": "IPY_MODEL_dea0f998b67245fcbcaddb7da0a574fb",
            "max": 213450,
            "min": 0,
            "orientation": "horizontal",
            "style": "IPY_MODEL_ddd2d51041704e4496c9757356675de1",
            "value": 213450
          }
        },
        "fa6a8eac53594f5a9a8cb228367c036b": {
          "model_module": "@jupyter-widgets/base",
          "model_module_version": "1.2.0",
          "model_name": "LayoutModel",
          "state": {
            "_model_module": "@jupyter-widgets/base",
            "_model_module_version": "1.2.0",
            "_model_name": "LayoutModel",
            "_view_count": null,
            "_view_module": "@jupyter-widgets/base",
            "_view_module_version": "1.2.0",
            "_view_name": "LayoutView",
            "align_content": null,
            "align_items": null,
            "align_self": null,
            "border": null,
            "bottom": null,
            "display": null,
            "flex": null,
            "flex_flow": null,
            "grid_area": null,
            "grid_auto_columns": null,
            "grid_auto_flow": null,
            "grid_auto_rows": null,
            "grid_column": null,
            "grid_gap": null,
            "grid_row": null,
            "grid_template_areas": null,
            "grid_template_columns": null,
            "grid_template_rows": null,
            "height": null,
            "justify_content": null,
            "justify_items": null,
            "left": null,
            "margin": null,
            "max_height": null,
            "max_width": null,
            "min_height": null,
            "min_width": null,
            "object_fit": null,
            "object_position": null,
            "order": null,
            "overflow": null,
            "overflow_x": null,
            "overflow_y": null,
            "padding": null,
            "right": null,
            "top": null,
            "visibility": null,
            "width": null
          }
        },
        "fcfaae4e861a499a9d71fbdfbe893a3c": {
          "model_module": "@jupyter-widgets/controls",
          "model_module_version": "1.5.0",
          "model_name": "HTMLModel",
          "state": {
            "_dom_classes": [],
            "_model_module": "@jupyter-widgets/controls",
            "_model_module_version": "1.5.0",
            "_model_name": "HTMLModel",
            "_view_count": null,
            "_view_module": "@jupyter-widgets/controls",
            "_view_module_version": "1.5.0",
            "_view_name": "HTMLView",
            "description": "",
            "description_tooltip": null,
            "layout": "IPY_MODEL_5c0bc820d9684642bc53caa6b79380b7",
            "placeholder": "​",
            "style": "IPY_MODEL_afe33f5196ea4e938d2d843cf5e0a966",
            "value": " 570/570 [00:00&lt;00:00, 37.9kB/s]"
          }
        }
      }
    }
  },
  "nbformat": 4,
  "nbformat_minor": 0
}
